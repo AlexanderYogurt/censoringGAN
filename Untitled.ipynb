{
 "cells": [
  {
   "cell_type": "code",
   "execution_count": 1,
   "metadata": {},
   "outputs": [],
   "source": [
    "import tensorflow as tf\n",
    "from tensorflow.examples.tutorials.mnist import input_data\n",
    "import numpy as np\n",
    "import matplotlib.pyplot as plt\n",
    "import matplotlib.gridspec as gridspec\n",
    "import os\n",
    "\n",
    "os.environ['TF_CPP_MIN_LOG_LEVEL'] = '3'\n",
    "os.environ[\"CUDA_VISIBLE_DEVICES\"]=\"7\""
   ]
  },
  {
   "cell_type": "code",
   "execution_count": 4,
   "metadata": {},
   "outputs": [],
   "source": [
    "mb_size = 64 # batch size\n",
    "Z_dim = 256\n",
    "X_dim = 2\n",
    "i_dim = 1\n",
    "\n",
    "def xavier_init(size):\n",
    "    in_dim = size[0]\n",
    "    xavier_stddev = 1. / tf.sqrt(in_dim / 2.)\n",
    "    return tf.random_normal(shape=size, stddev=xavier_stddev)"
   ]
  },
  {
   "cell_type": "code",
   "execution_count": 5,
   "metadata": {},
   "outputs": [],
   "source": [
    "\"\"\" Discriminator Net model \"\"\"\n",
    "h_dim = 128\n",
    "\n",
    "X = tf.placeholder(tf.float32, shape=[None, X_dim])\n",
    "ind = tf.placeholder(tf.float32, shape=[None, i_dim])\n",
    "Z = tf.placeholder(tf.float32, shape=[None, Z_dim])\n",
    "\n",
    "# first layer (X,ind) --> h1\n",
    "D_W1 = tf.Variable(xavier_init([X_dim + i_dim, h_dim]))\n",
    "D_b1 = tf.Variable(tf.zeros(shape=[h_dim]))\n",
    "\n",
    "# second layer h1 --> output\n",
    "D_W2 = tf.Variable(xavier_init([h_dim, 1]))\n",
    "D_b2 = tf.Variable(tf.zeros(shape=[1]))\n",
    "\n",
    "theta_D = [D_W1, D_W2, D_b1, D_b2]\n",
    "\n",
    "def discriminator(x, ind):\n",
    "    inputs = tf.concat(axis=1, values=[x, ind])\n",
    "    D_h1 = tf.nn.relu(tf.matmul(inputs, D_W1) + D_b1)\n",
    "    D_logit = tf.matmul(D_h1, D_W2) + D_b2\n",
    "    D_prob = tf.nn.sigmoid(D_logit)\n",
    "\n",
    "    return D_prob, D_logit"
   ]
  },
  {
   "cell_type": "code",
   "execution_count": 49,
   "metadata": {},
   "outputs": [],
   "source": [
    "\"\"\" Generator Net model \"\"\"\n",
    "h_dim_1 = 256\n",
    "h_dim_2 = 128\n",
    "h_dim_3 = 64\n",
    "\n",
    "# first layer (Z,ind) --> h1\n",
    "G_W1 = tf.Variable(xavier_init([Z_dim + i_dim, h_dim_1]))\n",
    "G_b1 = tf.Variable(tf.zeros(shape=[h_dim_1]))\n",
    "# second layer h1 --> h2\n",
    "G_W2 = tf.Variable(xavier_init([h_dim_1, h_dim_2]))\n",
    "G_b2 = tf.Variable(tf.zeros(shape=[h_dim_2]))\n",
    "# third layer h2 --> h3\n",
    "G_W3 = tf.Variable(xavier_init([h_dim_2, h_dim_3]))\n",
    "G_b3 = tf.Variable(tf.zeros(shape=[h_dim_3]))\n",
    "# output layer h2 --> X\n",
    "G_W4 = tf.Variable(xavier_init([h_dim_3, X_dim]))\n",
    "G_b4 = tf.Variable(tf.zeros(shape=[X_dim]))\n",
    "\n",
    "\n",
    "theta_G = [G_W1, G_b1,\n",
    "           G_W2, G_b2,\n",
    "           G_W3, G_b3,\n",
    "           G_W4, G_b4]\n",
    "\n",
    "def generator(z, ind):\n",
    "    inputs = tf.concat(axis=1, values=[z, ind])\n",
    "    G_h1 = tf.nn.relu(tf.matmul(inputs, G_W1) + G_b1)\n",
    "    G_h2 = tf.nn.relu(tf.matmul(G_h1, G_W2) + G_b2)\n",
    "    G_h3 = tf.nn.relu(tf.matmul(G_h2, G_W3) + G_b3)\n",
    "    G_prob = tf.matmul(G_h3, G_W4) + G_b4\n",
    "\n",
    "    return G_prob"
   ]
  },
  {
   "cell_type": "code",
   "execution_count": 50,
   "metadata": {},
   "outputs": [],
   "source": [
    "def sample_Z(m, n):\n",
    "    return np.random.uniform(-1., 1., size=[m, n])"
   ]
  },
  {
   "cell_type": "code",
   "execution_count": 52,
   "metadata": {},
   "outputs": [],
   "source": [
    "G_sample = generator(Z, ind)\n",
    "D_real, D_logit_real = discriminator(X, ind)\n",
    "D_fake, D_logit_fake = discriminator(G_sample, ind)\n",
    "\n",
    "D_loss_real = tf.reduce_mean(tf.nn.sigmoid_cross_entropy_with_logits(logits=D_logit_real, labels=tf.ones_like(D_logit_real)))\n",
    "D_loss_fake = tf.reduce_mean(tf.nn.sigmoid_cross_entropy_with_logits(logits=D_logit_fake, labels=tf.zeros_like(D_logit_fake)))\n",
    "D_loss = D_loss_real + D_loss_fake\n",
    "G_loss = tf.reduce_mean(tf.nn.sigmoid_cross_entropy_with_logits(logits=D_logit_fake, labels=tf.ones_like(D_logit_fake)))\n",
    "\n",
    "D_solver = tf.train.AdamOptimizer().minimize(D_loss, var_list=theta_D)\n",
    "G_solver = tf.train.AdamOptimizer().minimize(G_loss, var_list=theta_G)"
   ]
  },
  {
   "cell_type": "code",
   "execution_count": 86,
   "metadata": {},
   "outputs": [],
   "source": [
    "def generate_data(m, d):\n",
    "    x = np.random.uniform(-1., 1., size=[m, d])\n",
    "    t = np.sum(x**2, axis=1, keepdims=True) + np.random.normal(scale=0.05, size=[m,1])\n",
    "    # c = np.sum(x**2, axis=1, keepdims=True) + 0.5*np.sin(8*np.pi*x)\n",
    "    c = 0.2*np.ones_like(t) + np.random.exponential(scale=0.05, size=[m,1])\n",
    "    y = np.maximum(t,c) # left censoring\n",
    "    ind = np.argmax([c,t], axis=0) # indicator of censoring\n",
    "    return np.concatenate((x,y), axis=1), ind"
   ]
  },
  {
   "cell_type": "code",
   "execution_count": 87,
   "metadata": {},
   "outputs": [
    {
     "data": {
      "text/plain": [
       "[<matplotlib.lines.Line2D at 0x7fc1f418c400>]"
      ]
     },
     "execution_count": 87,
     "metadata": {},
     "output_type": "execute_result"
    },
    {
     "data": {
      "image/png": "[encoded data removed]",
      "text/plain": [
       "<matplotlib.figure.Figure at 0x7fc1f415a7f0>"
      ]
     },
     "metadata": {},
     "output_type": "display_data"
    }
   ],
   "source": [
    "import operator\n",
    "T = generate_data(2000, X_dim-1)\n",
    "x = T[0][:,:-1]\n",
    "y = T[0][:,-1]\n",
    "i = T[1]\n",
    "L = sorted(zip(x,y), key=operator.itemgetter(0))\n",
    "x, y = zip(*L)\n",
    "x = np.array(x)\n",
    "y = np.array(y)\n",
    "%matplotlib inline\n",
    "import matplotlib.pyplot as plt\n",
    "plt.plot(x,y,'ro')"
   ]
  },
  {
   "cell_type": "code",
   "execution_count": 88,
   "metadata": {},
   "outputs": [
    {
     "name": "stdout",
     "output_type": "stream",
     "text": [
      "Iter: 0\n",
      "D loss: 1.863\n",
      "G_loss: 1.461\n",
      "\n",
      "Iter: 1000\n",
      "D loss: 1.294\n",
      "G_loss: 0.7654\n",
      "\n",
      "Iter: 2000\n",
      "D loss: 1.463\n",
      "G_loss: 0.8448\n",
      "\n",
      "Iter: 3000\n",
      "D loss: 1.973\n",
      "G_loss: 0.4\n",
      "\n",
      "Iter: 4000\n",
      "D loss: 1.251\n",
      "G_loss: 0.8252\n",
      "\n",
      "Iter: 5000\n",
      "D loss: 1.243\n",
      "G_loss: 0.7925\n",
      "\n",
      "Iter: 6000\n",
      "D loss: 1.069\n",
      "G_loss: 0.9485\n",
      "\n",
      "Iter: 7000\n",
      "D loss: 1.111\n",
      "G_loss: 0.9124\n",
      "\n",
      "Iter: 8000\n",
      "D loss: 1.415\n",
      "G_loss: 0.7687\n",
      "\n",
      "Iter: 9000\n",
      "D loss: 1.12\n",
      "G_loss: 0.9556\n",
      "\n",
      "Iter: 10000\n",
      "D loss: 1.454\n",
      "G_loss: 0.778\n",
      "\n",
      "Iter: 11000\n",
      "D loss: 1.161\n",
      "G_loss: 0.8789\n",
      "\n",
      "Iter: 12000\n",
      "D loss: 2.296\n",
      "G_loss: 0.4385\n",
      "\n",
      "Iter: 13000\n",
      "D loss: 1.027\n",
      "G_loss: 0.8827\n",
      "\n",
      "Iter: 14000\n",
      "D loss: 1.125\n",
      "G_loss: 0.99\n",
      "\n",
      "Iter: 15000\n",
      "D loss: 1.222\n",
      "G_loss: 0.8217\n",
      "\n",
      "Iter: 16000\n",
      "D loss: 1.081\n",
      "G_loss: 0.9072\n",
      "\n",
      "Iter: 17000\n",
      "D loss: 1.851\n",
      "G_loss: 0.4588\n",
      "\n",
      "Iter: 18000\n",
      "D loss: 1.097\n",
      "G_loss: 0.9688\n",
      "\n",
      "Iter: 19000\n",
      "D loss: 1.403\n",
      "G_loss: 0.9254\n",
      "\n",
      "Iter: 20000\n",
      "D loss: 1.124\n",
      "G_loss: 0.8764\n",
      "\n",
      "Iter: 21000\n",
      "D loss: 1.239\n",
      "G_loss: 0.75\n",
      "\n",
      "Iter: 22000\n",
      "D loss: 1.319\n",
      "G_loss: 0.8844\n",
      "\n",
      "Iter: 23000\n",
      "D loss: 1.391\n",
      "G_loss: 0.7339\n",
      "\n",
      "Iter: 24000\n",
      "D loss: 1.399\n",
      "G_loss: 0.6641\n",
      "\n",
      "Iter: 25000\n",
      "D loss: 1.365\n",
      "G_loss: 0.6755\n",
      "\n",
      "Iter: 26000\n",
      "D loss: 1.38\n",
      "G_loss: 0.7246\n",
      "\n",
      "Iter: 27000\n",
      "D loss: 1.452\n",
      "G_loss: 0.6132\n",
      "\n",
      "Iter: 28000\n",
      "D loss: 1.358\n",
      "G_loss: 0.8527\n",
      "\n",
      "Iter: 29000\n",
      "D loss: 1.346\n",
      "G_loss: 0.7377\n",
      "\n",
      "Iter: 30000\n",
      "D loss: 1.444\n",
      "G_loss: 0.668\n",
      "\n",
      "Iter: 31000\n",
      "D loss: 1.371\n",
      "G_loss: 0.783\n",
      "\n",
      "Iter: 32000\n",
      "D loss: 1.423\n",
      "G_loss: 0.6538\n",
      "\n",
      "Iter: 33000\n",
      "D loss: 1.366\n",
      "G_loss: 0.6621\n",
      "\n",
      "Iter: 34000\n",
      "D loss: 1.403\n",
      "G_loss: 0.6906\n",
      "\n",
      "Iter: 35000\n",
      "D loss: 1.403\n",
      "G_loss: 0.6504\n",
      "\n",
      "Iter: 36000\n",
      "D loss: 1.361\n",
      "G_loss: 0.7438\n",
      "\n",
      "Iter: 37000\n",
      "D loss: 1.378\n",
      "G_loss: 0.6919\n",
      "\n",
      "Iter: 38000\n",
      "D loss: 1.388\n",
      "G_loss: 0.6996\n",
      "\n",
      "Iter: 39000\n",
      "D loss: 1.382\n",
      "G_loss: 0.7166\n",
      "\n",
      "Iter: 40000\n",
      "D loss: 1.388\n",
      "G_loss: 0.7303\n",
      "\n",
      "Iter: 41000\n",
      "D loss: 1.409\n",
      "G_loss: 0.7032\n",
      "\n",
      "Iter: 42000\n",
      "D loss: 1.376\n",
      "G_loss: 0.7217\n",
      "\n",
      "Iter: 43000\n",
      "D loss: 1.371\n",
      "G_loss: 0.7309\n",
      "\n",
      "Iter: 44000\n",
      "D loss: 1.389\n",
      "G_loss: 0.724\n",
      "\n",
      "Iter: 45000\n",
      "D loss: 1.399\n",
      "G_loss: 0.6994\n",
      "\n",
      "Iter: 46000\n",
      "D loss: 1.383\n",
      "G_loss: 0.6945\n",
      "\n",
      "Iter: 47000\n",
      "D loss: 1.377\n",
      "G_loss: 0.6999\n",
      "\n",
      "Iter: 48000\n",
      "D loss: 1.393\n",
      "G_loss: 0.7111\n",
      "\n",
      "Iter: 49000\n",
      "D loss: 1.407\n",
      "G_loss: 0.7418\n",
      "\n",
      "Iter: 50000\n",
      "D loss: 1.38\n",
      "G_loss: 0.7285\n",
      "\n"
     ]
    }
   ],
   "source": [
    "D = 1\n",
    "G = 1\n",
    "sess = tf.Session()\n",
    "sess.run(tf.global_variables_initializer())\n",
    "for it in range(50001):\n",
    "    \n",
    "    for d in range(D):\n",
    "        X_mb, ind_mb = generate_data(mb_size, X_dim-1)\n",
    "        Z_sample = sample_Z(mb_size, Z_dim)\n",
    "        _, D_loss_curr = sess.run([D_solver, D_loss], feed_dict={X: X_mb, Z: Z_sample, ind:ind_mb})\n",
    "        \n",
    "    for g in range(G):\n",
    "        _, ind_mb = generate_data(mb_size, X_dim-1)\n",
    "        Z_sample = sample_Z(mb_size, Z_dim)\n",
    "        _, G_loss_curr = sess.run([G_solver, G_loss], feed_dict={Z: Z_sample, ind:ind_mb})\n",
    "\n",
    "    if D_loss_curr < 0.5:\n",
    "        G = 5\n",
    "    else:\n",
    "        G = 1\n",
    "        \n",
    "    if it % 1000 == 0:\n",
    "        print('Iter: {}'.format(it))\n",
    "        print('D loss: {:.4}'. format(D_loss_curr))\n",
    "        print('G_loss: {:.4}'.format(G_loss_curr))\n",
    "        print()"
   ]
  },
  {
   "cell_type": "code",
   "execution_count": 89,
   "metadata": {},
   "outputs": [],
   "source": [
    "# test\n",
    "with sess.as_default():\n",
    "    G_W1_eval = G_W1.eval()\n",
    "    G_W2_eval = G_W2.eval()\n",
    "    G_W3_eval = G_W3.eval()\n",
    "    G_W4_eval = G_W4.eval()\n",
    "    G_b1_eval = G_b1.eval()\n",
    "    G_b2_eval = G_b2.eval()\n",
    "    G_b3_eval = G_b3.eval()\n",
    "    G_b4_eval = G_b4.eval()"
   ]
  },
  {
   "cell_type": "code",
   "execution_count": 90,
   "metadata": {},
   "outputs": [],
   "source": [
    "def relu(x):\n",
    "    return np.maximum(x,0)"
   ]
  },
  {
   "cell_type": "code",
   "execution_count": 91,
   "metadata": {},
   "outputs": [],
   "source": [
    "# generate Z\n",
    "data_size = 2000\n",
    "Z_sample = sample_Z(data_size, Z_dim)\n",
    "indicator = np.ones(shape=[data_size, 1])\n",
    "inputs = np.concatenate((Z_sample, indicator), axis=1)\n",
    "# map to X\n",
    "h1 = relu(np.dot(inputs, G_W1_eval) + G_b1_eval)\n",
    "h2 = relu(np.dot(h1, G_W2_eval) + G_b2_eval)\n",
    "h3 = relu(np.dot(h2, G_W3_eval) + G_b3_eval)\n",
    "X_sample = np.dot(h3, G_W4_eval) + G_b4_eval"
   ]
  },
  {
   "cell_type": "code",
   "execution_count": 92,
   "metadata": {},
   "outputs": [
    {
     "data": {
      "text/plain": [
       "[<matplotlib.lines.Line2D at 0x7fc1f410fa58>]"
      ]
     },
     "execution_count": 92,
     "metadata": {},
     "output_type": "execute_result"
    },
    {
     "data": {
      "image/png": "[encoded data removed]",
      "text/plain": [
       "<matplotlib.figure.Figure at 0x7fc1f423a710>"
      ]
     },
     "metadata": {},
     "output_type": "display_data"
    }
   ],
   "source": [
    "import itertools\n",
    "L = sorted(zip(X_sample[:,0],X_sample[:,1]), key=operator.itemgetter(0))\n",
    "new_x, new_y = list(zip(*L))\n",
    "plt.plot(new_x, new_y, 'r--')"
   ]
  },
  {
   "cell_type": "code",
   "execution_count": 93,
   "metadata": {},
   "outputs": [],
   "source": [
    "# generate Z\n",
    "data_size = 2000\n",
    "Z_sample = sample_Z(data_size, Z_dim)\n",
    "indicator = np.zeros(shape=[data_size, 1])\n",
    "inputs = np.concatenate((Z_sample, indicator), axis=1)\n",
    "# map to X\n",
    "h1 = relu(np.dot(inputs, G_W1_eval) + G_b1_eval)\n",
    "h2 = relu(np.dot(h1, G_W2_eval) + G_b2_eval)\n",
    "h3 = relu(np.dot(h2, G_W3_eval) + G_b3_eval)\n",
    "X_sample = np.dot(h3, G_W4_eval) + G_b4_eval"
   ]
  },
  {
   "cell_type": "code",
   "execution_count": 94,
   "metadata": {},
   "outputs": [
    {
     "data": {
      "text/plain": [
       "[<matplotlib.lines.Line2D at 0x7fc1f40ae588>]"
      ]
     },
     "execution_count": 94,
     "metadata": {},
     "output_type": "execute_result"
    },
    {
     "data": {
      "image/png": "[encoded data removed]",
      "text/plain": [
       "<matplotlib.figure.Figure at 0x7fc1f411b2b0>"
      ]
     },
     "metadata": {},
     "output_type": "display_data"
    }
   ],
   "source": [
    "import itertools\n",
    "L = sorted(zip(X_sample[:,0],X_sample[:,1]), key=operator.itemgetter(0))\n",
    "new_x, new_y = list(zip(*L))\n",
    "plt.plot(new_x, new_y, 'r--')"
   ]
  },
  {
   "cell_type": "code",
   "execution_count": null,
   "metadata": {},
   "outputs": [],
   "source": []
  }
 ],
 "metadata": {
  "kernelspec": {
   "display_name": "tensorflow_python3",
   "language": "python",
   "name": "tensorflow_python3"
  },
  "language_info": {
   "codemirror_mode": {
    "name": "ipython",
    "version": 3
   },
   "file_extension": ".py",
   "mimetype": "text/x-python",
   "name": "python",
   "nbconvert_exporter": "python",
   "pygments_lexer": "ipython3",
   "version": "3.5.2"
  }
 },
 "nbformat": 4,
 "nbformat_minor": 2
}
