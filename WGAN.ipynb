{
 "cells": [
  {
   "cell_type": "code",
   "execution_count": 1,
   "metadata": {},
   "outputs": [],
   "source": [
    "import tensorflow as tf\n",
    "from tensorflow.examples.tutorials.mnist import input_data\n",
    "import numpy as np\n",
    "import matplotlib.pyplot as plt\n",
    "import matplotlib.gridspec as gridspec\n",
    "import os\n",
    "\n",
    "\n",
    "def xavier_init(size):\n",
    "    in_dim = size[0]\n",
    "    xavier_stddev = 1. / tf.sqrt(in_dim / 2.)\n",
    "    return tf.random_normal(shape=size, stddev=xavier_stddev)\n",
    "\n",
    "os.environ['TF_CPP_MIN_LOG_LEVEL'] = '3'\n",
    "os.environ[\"CUDA_VISIBLE_DEVICES\"]=\"0\""
   ]
  },
  {
   "cell_type": "code",
   "execution_count": 2,
   "metadata": {},
   "outputs": [],
   "source": [
    "# X  --> Y \n",
    "X_dim = 1\n",
    "Z_dim = 256\n",
    "\n",
    "# Discriminator Net\n",
    "X = tf.placeholder(tf.float32, shape=[None, X_dim+2], name='X')\n",
    "\n",
    "D_W1 = tf.Variable(xavier_init([X_dim+2, 256]), name='D_W1')\n",
    "D_b1 = tf.Variable(tf.zeros(shape=[256]), name='D_b1')\n",
    "\n",
    "D_W2 = tf.Variable(xavier_init([256, 1]), name='D_W2')\n",
    "D_b2 = tf.Variable(tf.zeros(shape=[1]), name='D_b2')\n",
    "\n",
    "theta_D = [D_W1, D_W2, D_b1, D_b2]\n",
    "\n",
    "# Generator Net\n",
    "Z = tf.placeholder(tf.float32, shape=[None, Z_dim], name='Z')\n",
    "\n",
    "G_W0 = tf.Variable(xavier_init([Z_dim, 1024]), name='G_W0')\n",
    "G_b0 = tf.Variable(tf.zeros(shape=[1024]), name='G_b0')\n",
    "\n",
    "G_W1 = tf.Variable(xavier_init([1024, X_dim]), name='G_W1')\n",
    "G_b1 = tf.Variable(tf.zeros(shape=[X_dim]), name='G_b1')\n",
    "\n",
    "G_W2_true = tf.Variable(xavier_init([X_dim, 512]), name='G_W2_true')\n",
    "G_b2_true = tf.Variable(tf.zeros(shape=[512]), name='G_b2_true')\n",
    "\n",
    "G_W2_censor = tf.Variable(xavier_init([X_dim, 512]), name='G_W2_censor')\n",
    "G_b2_censor = tf.Variable(tf.zeros(shape=[512]), name='G_b2_censor')\n",
    "\n",
    "G_W22_true = tf.Variable(xavier_init([512, 64]), name='G_W22_true')\n",
    "G_b22_true = tf.Variable(tf.zeros(shape=[64]), name='G_b22_true')\n",
    "\n",
    "G_W22_censor = tf.Variable(xavier_init([512, 64]), name='G_W22_censor')\n",
    "G_b22_censor = tf.Variable(tf.zeros(shape=[64]), name='G_b22_censor')\n",
    "\n",
    "G_W3_true = tf.Variable(xavier_init([64, 1]), name='G_W3_true')\n",
    "G_b3_true = tf.Variable(tf.zeros(shape=[1]), name='G_b3_true')\n",
    "\n",
    "G_W3_censor = tf.Variable(xavier_init([64, 1]), name='G_W3_censor')\n",
    "G_b3_censor = tf.Variable(tf.zeros(shape=[1]), name='G_b3_censor')\n",
    "\n",
    "theta_G = [G_W0, G_W1, G_W2_true, G_W22_true, G_W3_true, G_W2_censor, G_W22_censor, G_W3_censor, \\\n",
    "           G_b0, G_b1, G_b2_true, G_b22_true, G_b3_true, G_b2_censor, G_b22_censor, G_b3_censor]"
   ]
  },
  {
   "cell_type": "code",
   "execution_count": 3,
   "metadata": {},
   "outputs": [],
   "source": [
    "def sample_Z(m, n):\n",
    "    return np.random.uniform(-1., 1., size=[m, n])\n",
    "\n",
    "def generate_real(m, d):\n",
    "    x = np.random.uniform(-1., 1., size=[m, d])\n",
    "    t = np.sum(x**2, axis=1, keepdims=True)\n",
    "    c = 0.2*np.ones_like(t)\n",
    "    y = np.maximum(t,c) # left censoring\n",
    "    ind = np.argmax([c,t], axis=0) # indicator of censoring\n",
    "    return np.concatenate((x,y,ind), axis=1)\n",
    "\n",
    "def generator(z):\n",
    "    G_x = tf.matmul(tf.nn.relu(tf.matmul(z, G_W0) + G_b0), G_W1) + G_b1\n",
    "    \n",
    "    G_h_true = tf.nn.relu(tf.matmul(G_x, G_W2_true) + G_b2_true)\n",
    "    G_h_censor = tf.nn.relu(tf.matmul(G_x, G_W2_censor) + G_b2_censor)\n",
    "    \n",
    "    G_h2_true = tf.nn.relu(tf.matmul(G_h_true, G_W22_true) + G_b22_true)\n",
    "    G_h2_censor = tf.nn.relu(tf.matmul(G_h_censor, G_W22_censor) + G_b22_censor)\n",
    "    \n",
    "    G_t = tf.matmul(G_h2_true, G_W3_true) + G_b3_true\n",
    "    G_c = tf.matmul(G_h2_censor, G_W3_censor) + G_b3_censor\n",
    "    \n",
    "    G_y = tf.maximum(G_t, G_c) # left censoring\n",
    "    # TODO: how to tell neural network which data is censored?\n",
    "    # using sigmoid function trick\n",
    "    G_y_ind = tf.sigmoid(0.1*(G_t - G_c))\n",
    "    \n",
    "    G_prob = tf.concat([G_x, G_y, G_y_ind], axis=1)\n",
    "\n",
    "    return G_prob\n",
    "\n",
    "def generator2(z):\n",
    "    G_x = tf.matmul(tf.nn.relu(tf.matmul(z, G_W0) + G_b0), G_W1) + G_b1\n",
    "    G_h_true = tf.nn.relu(tf.matmul(G_x, G_W2_true) + G_b2_true)\n",
    "    G_t = tf.matmul(G_h_true, G_W3_true) + G_b3_true\n",
    "    G_y_ind = tf.ones_like(G_t)\n",
    "    G_prob = tf.concat([G_x, G_t, G_y_ind], axis=1)\n",
    "    \n",
    "    return G_prob\n",
    "\n",
    "def discriminator(x):\n",
    "    D_h1 = tf.nn.relu(tf.matmul(x, D_W1) + D_b1)\n",
    "    D_logit = tf.matmul(D_h1, D_W2) + D_b2\n",
    "    D_prob = tf.nn.sigmoid(D_logit)\n",
    "\n",
    "    return D_prob, D_logit"
   ]
  },
  {
   "cell_type": "code",
   "execution_count": 4,
   "metadata": {},
   "outputs": [],
   "source": [
    "G_sample = generator(Z)\n",
    "D_real, D_logit_real = discriminator(X)\n",
    "D_fake, D_logit_fake = discriminator(G_sample)"
   ]
  },
  {
   "cell_type": "code",
   "execution_count": null,
   "metadata": {},
   "outputs": [
    {
     "name": "stdout",
     "output_type": "stream",
     "text": [
      "Iter: 0\n",
      "D loss: 0.03303\n",
      "G_loss: -0.4867\n",
      "\n",
      "Iter: 100\n",
      "D loss: 0.04577\n",
      "G_loss: -0.4513\n",
      "\n",
      "Iter: 200\n",
      "D loss: 0.02916\n",
      "G_loss: -0.4794\n",
      "\n",
      "Iter: 300\n",
      "D loss: 0.02181\n",
      "G_loss: -0.4835\n",
      "\n"
     ]
    }
   ],
   "source": [
    "D_loss = tf.reduce_mean(D_real) - tf.reduce_mean(D_fake) # want it large --> 1\n",
    "G_loss = -tf.reduce_mean(D_fake) # want it small --> -1\n",
    "\n",
    "D_solver = (tf.train.RMSPropOptimizer(learning_rate=1e-1)\n",
    "            .minimize(-D_loss, var_list=theta_D))\n",
    "G_solver = (tf.train.RMSPropOptimizer(learning_rate=1e-1)\n",
    "            .minimize(G_loss, var_list=theta_G))\n",
    "\n",
    "clip_D = [p.assign(tf.clip_by_value(p, -0.1, 0.1)) for p in theta_D]\n",
    "\n",
    "mb_size = 128\n",
    "\n",
    "sess = tf.Session()\n",
    "sess.run(tf.global_variables_initializer())\n",
    "\n",
    "J = 10\n",
    "K = 1\n",
    "for it in range(100001):\n",
    "    for _ in range(J):\n",
    "        X_mb = generate_real(mb_size, X_dim)\n",
    "        _, D_loss_curr, _ = sess.run(\n",
    "            [D_solver, D_loss, clip_D],\n",
    "            feed_dict={X: X_mb, Z: sample_Z(mb_size, Z_dim)}\n",
    "        )\n",
    "        \n",
    "    for k in range(K):\n",
    "        _, G_loss_curr = sess.run(\n",
    "            [G_solver, G_loss],\n",
    "            feed_dict={Z: sample_Z(mb_size, Z_dim)}\n",
    "        )\n",
    "\n",
    "#     if D_loss_curr < 1.0:\n",
    "#         K = 20\n",
    "#         J = 1\n",
    "#     elif G_loss_curr > 2.0:\n",
    "#         K = 20\n",
    "#         J = 1\n",
    "#     else:\n",
    "#         K = 1\n",
    "#         J = 1\n",
    "        \n",
    "#     if G_loss_curr < 0.8:\n",
    "#         J = 10\n",
    "#         K = 1\n",
    "        \n",
    "    if it % 100 == 0:\n",
    "        print('Iter: {}'.format(it))\n",
    "        print('D loss: {:.4}'. format(D_loss_curr))\n",
    "        print('G_loss: {:.4}'.format(G_loss_curr))\n",
    "        print()"
   ]
  },
  {
   "cell_type": "code",
   "execution_count": 23,
   "metadata": {},
   "outputs": [],
   "source": [
    "# test\n",
    "G_W2_true_final = G_W2_true.eval(sess)\n",
    "G_b2_true_final = G_b2_true.eval(sess)\n",
    "G_W22_true_final = G_W22_true.eval(sess)\n",
    "G_b22_true_final = G_b22_true.eval(sess)\n",
    "\n",
    "G_W3_true_final = G_W3_true.eval(sess)\n",
    "G_b3_true_final = G_b3_true.eval(sess)\n",
    "\n",
    "G_W2_censor_final = G_W2_censor.eval(sess)\n",
    "G_b2_censor_final = G_b2_censor.eval(sess)\n",
    "G_W22_censor_final = G_W22_censor.eval(sess)\n",
    "G_b22_censor_final = G_b22_censor.eval(sess)\n",
    "\n",
    "G_W3_censor_final = G_W3_censor.eval(sess)\n",
    "G_b3_censor_final = G_b3_censor.eval(sess)"
   ]
  },
  {
   "cell_type": "code",
   "execution_count": 24,
   "metadata": {},
   "outputs": [],
   "source": [
    "import operator\n",
    "T = generate_real(2000, X_dim)\n",
    "x = T[:,:-2]\n",
    "y = T[:,-2:-1]\n",
    "L = sorted(zip(x,y), key=operator.itemgetter(0))\n",
    "x, y = zip(*L)"
   ]
  },
  {
   "cell_type": "code",
   "execution_count": 25,
   "metadata": {},
   "outputs": [],
   "source": [
    "def reLu(x):\n",
    "    return np.maximum(x,0)\n",
    "\n",
    "pred = np.dot(reLu(np.dot(reLu(np.dot(x, G_W2_true_final) + G_b2_true_final), G_W22_true_final) \\\n",
    "                   + G_b22_true_final), G_W3_true_final) + G_b3_true_final\n",
    "pred_c = np.dot(reLu(np.dot(reLu(np.dot(x, G_W2_censor_final) + G_b2_censor_final), G_W22_censor_final) \\\n",
    "                     + G_b22_censor_final), G_W3_censor_final) + G_b3_censor_final"
   ]
  },
  {
   "cell_type": "code",
   "execution_count": 26,
   "metadata": {},
   "outputs": [
    {
     "data": {
      "text/plain": [
       "[<matplotlib.lines.Line2D at 0x7f9a564eebe0>]"
      ]
     },
     "execution_count": 26,
     "metadata": {},
     "output_type": "execute_result"
    },
    {
     "data": {
      "image/png": "[encoded data removed]",
      "text/plain": [
       "<matplotlib.figure.Figure at 0x7f9a577b2160>"
      ]
     },
     "metadata": {},
     "output_type": "display_data"
    }
   ],
   "source": [
    "%matplotlib inline\n",
    "import matplotlib.pyplot as plt\n",
    "plt.plot(y)"
   ]
  },
  {
   "cell_type": "code",
   "execution_count": 27,
   "metadata": {},
   "outputs": [
    {
     "data": {
      "text/plain": [
       "[<matplotlib.lines.Line2D at 0x7f9a558f2a20>]"
      ]
     },
     "execution_count": 27,
     "metadata": {},
     "output_type": "execute_result"
    },
    {
     "data": {
      "image/png": "[encoded data removed]",
      "text/plain": [
       "<matplotlib.figure.Figure at 0x7f9a564a4390>"
      ]
     },
     "metadata": {},
     "output_type": "display_data"
    }
   ],
   "source": [
    "plt.plot(pred)"
   ]
  },
  {
   "cell_type": "code",
   "execution_count": 28,
   "metadata": {},
   "outputs": [
    {
     "data": {
      "text/plain": [
       "[<matplotlib.lines.Line2D at 0x7f9a097da208>]"
      ]
     },
     "execution_count": 28,
     "metadata": {},
     "output_type": "execute_result"
    },
    {
     "data": {
      "image/png": "[encoded data removed]",
      "text/plain": [
       "<matplotlib.figure.Figure at 0x7f9a5648b978>"
      ]
     },
     "metadata": {},
     "output_type": "display_data"
    }
   ],
   "source": [
    "plt.plot(pred_c)"
   ]
  },
  {
   "cell_type": "code",
   "execution_count": 29,
   "metadata": {},
   "outputs": [
    {
     "data": {
      "text/plain": [
       "[<matplotlib.lines.Line2D at 0x7f9a097e3ef0>]"
      ]
     },
     "execution_count": 29,
     "metadata": {},
     "output_type": "execute_result"
    },
    {
     "data": {
      "image/png": "[encoded data removed]",
      "text/plain": [
       "<matplotlib.figure.Figure at 0x7f9a097e3b38>"
      ]
     },
     "metadata": {},
     "output_type": "display_data"
    }
   ],
   "source": [
    "plt.plot(np.maximum(pred, pred_c))"
   ]
  },
  {
   "cell_type": "code",
   "execution_count": null,
   "metadata": {},
   "outputs": [],
   "source": []
  }
 ],
 "metadata": {
  "kernelspec": {
   "display_name": "tensorflow_python3",
   "language": "python",
   "name": "tensorflow_python3"
  },
  "language_info": {
   "codemirror_mode": {
    "name": "ipython",
    "version": 3
   },
   "file_extension": ".py",
   "mimetype": "text/x-python",
   "name": "python",
   "nbconvert_exporter": "python",
   "pygments_lexer": "ipython3",
   "version": "3.5.2"
  }
 },
 "nbformat": 4,
 "nbformat_minor": 2
}
