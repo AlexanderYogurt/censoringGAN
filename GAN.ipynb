{
 "cells": [
  {
   "cell_type": "code",
   "execution_count": 1,
   "metadata": {},
   "outputs": [],
   "source": [
    "import tensorflow as tf\n",
    "from tensorflow.examples.tutorials.mnist import input_data\n",
    "import numpy as np\n",
    "import matplotlib.pyplot as plt\n",
    "import matplotlib.gridspec as gridspec\n",
    "import os\n",
    "\n",
    "\n",
    "def xavier_init(size):\n",
    "    in_dim = size[0]\n",
    "    xavier_stddev = 1. / tf.sqrt(in_dim / 2.)\n",
    "    return tf.random_normal(shape=size, stddev=xavier_stddev)\n",
    "\n",
    "os.environ['TF_CPP_MIN_LOG_LEVEL'] = '3'\n",
    "os.environ[\"CUDA_VISIBLE_DEVICES\"]=\"0\""
   ]
  },
  {
   "cell_type": "code",
   "execution_count": 2,
   "metadata": {},
   "outputs": [],
   "source": [
    "# X  --> Y \n",
    "X_dim = 1\n",
    "Z_dim = 256\n",
    "\n",
    "# Discriminator Net\n",
    "X = tf.placeholder(tf.float32, shape=[None, X_dim+2], name='X')\n",
    "\n",
    "D_W1 = tf.Variable(xavier_init([X_dim+2, 256]), name='D_W1')\n",
    "D_b1 = tf.Variable(tf.zeros(shape=[256]), name='D_b1')\n",
    "\n",
    "D_W2 = tf.Variable(xavier_init([256, 1]), name='D_W2')\n",
    "D_b2 = tf.Variable(tf.zeros(shape=[1]), name='D_b2')\n",
    "\n",
    "theta_D = [D_W1, D_W2, D_b1, D_b2]\n",
    "\n",
    "# Generator Net\n",
    "Z = tf.placeholder(tf.float32, shape=[None, Z_dim], name='Z')\n",
    "\n",
    "G_W0 = tf.Variable(xavier_init([Z_dim, 1024]), name='G_W0')\n",
    "G_b0 = tf.Variable(tf.zeros(shape=[1024]), name='G_b0')\n",
    "\n",
    "G_W1 = tf.Variable(xavier_init([1024, X_dim]), name='G_W1')\n",
    "G_b1 = tf.Variable(tf.zeros(shape=[X_dim]), name='G_b1')\n",
    "\n",
    "G_W2_true = tf.Variable(xavier_init([X_dim, 512]), name='G_W2_true')\n",
    "G_b2_true = tf.Variable(tf.zeros(shape=[512]), name='G_b2_true')\n",
    "\n",
    "G_W2_censor = tf.Variable(xavier_init([X_dim, 512]), name='G_W2_censor')\n",
    "G_b2_censor = tf.Variable(tf.zeros(shape=[512]), name='G_b2_censor')\n",
    "\n",
    "G_W22_true = tf.Variable(xavier_init([512, 64]), name='G_W22_true')\n",
    "G_b22_true = tf.Variable(tf.zeros(shape=[64]), name='G_b22_true')\n",
    "\n",
    "G_W22_censor = tf.Variable(xavier_init([512, 64]), name='G_W22_censor')\n",
    "G_b22_censor = tf.Variable(tf.zeros(shape=[64]), name='G_b22_censor')\n",
    "\n",
    "G_W3_true = tf.Variable(xavier_init([64, 1]), name='G_W3_true')\n",
    "G_b3_true = tf.Variable(tf.zeros(shape=[1]), name='G_b3_true')\n",
    "\n",
    "G_W3_censor = tf.Variable(xavier_init([64, 1]), name='G_W3_censor')\n",
    "G_b3_censor = tf.Variable(tf.zeros(shape=[1]), name='G_b3_censor')\n",
    "\n",
    "theta_G = [G_W0, G_W1, G_W2_true, G_W22_true, G_W3_true, G_W2_censor, G_W22_censor, G_W3_censor, \\\n",
    "           G_b0, G_b1, G_b2_true, G_b22_true, G_b3_true, G_b2_censor, G_b22_censor, G_b3_censor]"
   ]
  },
  {
   "cell_type": "code",
   "execution_count": 3,
   "metadata": {},
   "outputs": [],
   "source": [
    "def sample_Z(m, n):\n",
    "    return np.random.uniform(-1., 1., size=[m, n])\n",
    "\n",
    "def generate_real(m, d):\n",
    "    x = np.random.uniform(-1., 1., size=[m, d])\n",
    "    t = np.sum(x**2, axis=1, keepdims=True)\n",
    "    c = 0.2*np.ones_like(t)\n",
    "    y = np.maximum(t,c) # left censoring\n",
    "    ind = np.argmax([c,t], axis=0) # indicator of censoring\n",
    "    return np.concatenate((x,y,ind), axis=1)\n",
    "\n",
    "def generator(z):\n",
    "    G_x = tf.matmul(tf.nn.relu(tf.matmul(z, G_W0) + G_b0), G_W1) + G_b1\n",
    "    \n",
    "    G_h_true = tf.nn.relu(tf.matmul(G_x, G_W2_true) + G_b2_true)\n",
    "    G_h_censor = tf.nn.relu(tf.matmul(G_x, G_W2_censor) + G_b2_censor)\n",
    "    \n",
    "    G_h2_true = tf.nn.relu(tf.matmul(G_h_true, G_W22_true) + G_b22_true)\n",
    "    G_h2_censor = tf.nn.relu(tf.matmul(G_h_censor, G_W22_censor) + G_b22_censor)\n",
    "    \n",
    "    G_t = tf.matmul(G_h2_true, G_W3_true) + G_b3_true\n",
    "    G_c = tf.matmul(G_h2_censor, G_W3_censor) + G_b3_censor\n",
    "    \n",
    "    G_y = tf.maximum(G_t, G_c) # left censoring\n",
    "    # TODO: how to tell neural network which data is censored?\n",
    "    # using sigmoid function trick\n",
    "    G_y_ind = tf.sigmoid(1.0*(G_t - G_c))\n",
    "    \n",
    "    G_prob = tf.concat([G_x, G_y, G_y_ind], axis=1)\n",
    "\n",
    "    return G_prob\n",
    "\n",
    "def generator2(z):\n",
    "    G_x = tf.matmul(tf.nn.relu(tf.matmul(z, G_W0) + G_b0), G_W1) + G_b1\n",
    "    G_h_true = tf.nn.relu(tf.matmul(G_x, G_W2_true) + G_b2_true)\n",
    "    G_t = tf.matmul(G_h_true, G_W3_true) + G_b3_true\n",
    "    G_y_ind = tf.ones_like(G_t)\n",
    "    G_prob = tf.concat([G_x, G_t, G_y_ind], axis=1)\n",
    "    \n",
    "    return G_prob\n",
    "\n",
    "def discriminator(x):\n",
    "    D_h1 = tf.nn.relu(tf.matmul(x, D_W1) + D_b1)\n",
    "    D_logit = tf.matmul(D_h1, D_W2) + D_b2\n",
    "    D_prob = tf.nn.sigmoid(D_logit)\n",
    "\n",
    "    return D_prob, D_logit"
   ]
  },
  {
   "cell_type": "code",
   "execution_count": 4,
   "metadata": {},
   "outputs": [],
   "source": [
    "G_sample = generator(Z)\n",
    "D_real, D_logit_real = discriminator(X)\n",
    "D_fake, D_logit_fake = discriminator(G_sample)"
   ]
  },
  {
   "cell_type": "code",
   "execution_count": 21,
   "metadata": {},
   "outputs": [
    {
     "name": "stdout",
     "output_type": "stream",
     "text": [
      "Iter: 0\n",
      "D loss: 1.5\n",
      "G_loss: 193.1\n",
      "\n",
      "Iter: 1000\n",
      "D loss: 0.0\n",
      "G_loss: 2.914e+07\n",
      "\n",
      "Iter: 2000\n",
      "D loss: 1.013\n",
      "G_loss: 1.049e+04\n",
      "\n",
      "Iter: 3000\n",
      "D loss: 1.013\n",
      "G_loss: 4.93e+04\n",
      "\n",
      "Iter: 4000\n",
      "D loss: 1.087\n",
      "G_loss: 1.761\n",
      "\n",
      "Iter: 5000\n",
      "D loss: 1.412\n",
      "G_loss: 0.3635\n",
      "\n",
      "Iter: 6000\n",
      "D loss: 1.118\n",
      "G_loss: 7.524e+04\n",
      "\n",
      "Iter: 7000\n",
      "D loss: 0.004277\n",
      "G_loss: 9.213\n",
      "\n",
      "Iter: 8000\n",
      "D loss: 1.054\n",
      "G_loss: 1.012\n",
      "\n",
      "Iter: 9000\n",
      "D loss: 0.9732\n",
      "G_loss: 3.034e+03\n",
      "\n",
      "Iter: 10000\n",
      "D loss: 1.036\n",
      "G_loss: 1.154\n",
      "\n",
      "Iter: 11000\n",
      "D loss: 1.396\n",
      "G_loss: 0.6884\n",
      "\n",
      "Iter: 12000\n",
      "D loss: 1.39\n",
      "G_loss: 0.808\n",
      "\n",
      "Iter: 13000\n",
      "D loss: 1.411\n",
      "G_loss: 0.8452\n",
      "\n",
      "Iter: 14000\n",
      "D loss: 0.7104\n",
      "G_loss: 125.5\n",
      "\n",
      "Iter: 15000\n",
      "D loss: 1.382\n",
      "G_loss: 2.963e+05\n",
      "\n",
      "Iter: 16000\n",
      "D loss: 0.4108\n",
      "G_loss: 1.343e+03\n",
      "\n",
      "Iter: 17000\n",
      "D loss: 1.395\n",
      "G_loss: 0.603\n",
      "\n",
      "Iter: 18000\n",
      "D loss: 1.387\n",
      "G_loss: 0.6369\n",
      "\n",
      "Iter: 19000\n",
      "D loss: 1.386\n",
      "G_loss: 0.696\n",
      "\n",
      "Iter: 20000\n",
      "D loss: 1.41\n",
      "G_loss: 0.8331\n",
      "\n",
      "Iter: 21000\n",
      "D loss: 1.386\n",
      "G_loss: 0.7356\n",
      "\n",
      "Iter: 22000\n",
      "D loss: 1.386\n",
      "G_loss: 0.6899\n",
      "\n",
      "Iter: 23000\n",
      "D loss: 1.4\n",
      "G_loss: 2.139e+04\n",
      "\n",
      "Iter: 24000\n",
      "D loss: 1.386\n",
      "G_loss: 0.6897\n",
      "\n",
      "Iter: 25000\n",
      "D loss: 1.386\n",
      "G_loss: 0.6936\n",
      "\n",
      "Iter: 26000\n",
      "D loss: 1.395\n",
      "G_loss: 0.7268\n",
      "\n",
      "Iter: 27000\n",
      "D loss: 16.24\n",
      "G_loss: 1.173\n",
      "\n",
      "Iter: 28000\n",
      "D loss: 1.386\n",
      "G_loss: 0.6904\n",
      "\n",
      "Iter: 29000\n",
      "D loss: 24.53\n",
      "G_loss: 0.5938\n",
      "\n",
      "Iter: 30000\n",
      "D loss: 1.421\n",
      "G_loss: 0.9153\n",
      "\n",
      "Iter: 31000\n",
      "D loss: 1.386\n",
      "G_loss: 0.6934\n",
      "\n",
      "Iter: 32000\n",
      "D loss: 1.577\n",
      "G_loss: 1.318\n",
      "\n",
      "Iter: 33000\n",
      "D loss: 1.4\n",
      "G_loss: 0.669\n",
      "\n",
      "Iter: 34000\n",
      "D loss: 2.048\n",
      "G_loss: 0.6976\n",
      "\n",
      "Iter: 35000\n",
      "D loss: 1.386\n",
      "G_loss: 0.6913\n",
      "\n",
      "Iter: 36000\n",
      "D loss: 1.381\n",
      "G_loss: 0.6928\n",
      "\n",
      "Iter: 37000\n",
      "D loss: 1.386\n",
      "G_loss: 1.166e+05\n",
      "\n",
      "Iter: 38000\n",
      "D loss: 1.615\n",
      "G_loss: 0.3949\n",
      "\n",
      "Iter: 39000\n",
      "D loss: 1.386\n",
      "G_loss: 0.6992\n",
      "\n",
      "Iter: 40000\n",
      "D loss: 1.426\n",
      "G_loss: 0.7835\n",
      "\n",
      "Iter: 41000\n",
      "D loss: 1.386\n",
      "G_loss: 0.6959\n",
      "\n",
      "Iter: 42000\n",
      "D loss: 1.387\n",
      "G_loss: 0.6926\n",
      "\n",
      "Iter: 43000\n",
      "D loss: 1.381\n",
      "G_loss: 0.9996\n",
      "\n",
      "Iter: 44000\n",
      "D loss: 1.386\n",
      "G_loss: 0.6978\n",
      "\n",
      "Iter: 45000\n",
      "D loss: 1.387\n",
      "G_loss: 0.7028\n",
      "\n",
      "Iter: 46000\n",
      "D loss: 1.386\n",
      "G_loss: 0.6943\n",
      "\n",
      "Iter: 47000\n",
      "D loss: 1.389\n",
      "G_loss: 0.7296\n",
      "\n",
      "Iter: 48000\n",
      "D loss: 1.386\n",
      "G_loss: 0.6914\n",
      "\n",
      "Iter: 49000\n",
      "D loss: 1.386\n",
      "G_loss: 0.693\n",
      "\n",
      "Iter: 50000\n",
      "D loss: 1.388\n",
      "G_loss: 0.7707\n",
      "\n"
     ]
    }
   ],
   "source": [
    "# D_loss = -tf.reduce_mean(tf.log(D_real) + tf.log(1. - D_fake))\n",
    "# G_loss = -tf.reduce_mean(tf.log(D_fake))\n",
    "\n",
    "D_loss_real = tf.reduce_mean(tf.nn.sigmoid_cross_entropy_with_logits(logits=D_logit_real, labels=tf.ones_like(D_logit_real)))\n",
    "D_loss_fake = tf.reduce_mean(tf.nn.sigmoid_cross_entropy_with_logits(logits=D_logit_fake, labels=tf.zeros_like(D_logit_fake)))\n",
    "D_loss = D_loss_real + D_loss_fake\n",
    "G_loss = tf.reduce_mean(tf.nn.sigmoid_cross_entropy_with_logits(logits=D_logit_fake, labels=tf.ones_like(D_logit_fake)))\n",
    "\n",
    "clip_D = [p.assign(tf.clip_by_value(p, -0.5, 0.5)) for p in theta_D]\n",
    "\n",
    "mb_size = 128\n",
    "\n",
    "global_step = tf.Variable(0)\n",
    "learning_rate = tf.train.exponential_decay(\n",
    "        1.0, global_step, 5000, 0.9, staircase=True)\n",
    "\n",
    "D_solver = tf.train.AdamOptimizer(learning_rate).minimize(D_loss, var_list=theta_D)\n",
    "G_solver = tf.train.AdamOptimizer(learning_rate).minimize(G_loss, var_list=theta_G)\n",
    "\n",
    "sess = tf.Session()\n",
    "sess.run(tf.global_variables_initializer())\n",
    "\n",
    "J = 1\n",
    "K = 1\n",
    "for it in range(50001):\n",
    "    for j in range(J):\n",
    "        X_mb = generate_real(mb_size, X_dim)\n",
    "        _, D_loss_curr = sess.run([D_solver, D_loss], feed_dict={X: X_mb, Z: sample_Z(mb_size, Z_dim)})\n",
    "        \n",
    "    for k in range(K):\n",
    "        _, G_loss_curr = sess.run([G_solver, G_loss], feed_dict={Z: sample_Z(mb_size, Z_dim)})\n",
    "\n",
    "    if D_loss_curr < 1.0:\n",
    "        K = 20\n",
    "        J = 1\n",
    "    elif G_loss_curr > 2.0:\n",
    "        K = 20\n",
    "        J = 1\n",
    "    else:\n",
    "        K = 1\n",
    "        J = 1\n",
    "        \n",
    "#     if G_loss_curr < 0.8:\n",
    "#         J = 10\n",
    "#         K = 1\n",
    "        \n",
    "    if it % 1000 == 0:\n",
    "        print('Iter: {}'.format(it))\n",
    "        print('D loss: {:.4}'. format(D_loss_curr))\n",
    "        print('G_loss: {:.4}'.format(G_loss_curr))\n",
    "        print()"
   ]
  },
  {
   "cell_type": "code",
   "execution_count": 22,
   "metadata": {},
   "outputs": [],
   "source": [
    "# test\n",
    "G_W2_true_final = G_W2_true.eval(sess)\n",
    "G_b2_true_final = G_b2_true.eval(sess)\n",
    "G_W22_true_final = G_W22_true.eval(sess)\n",
    "G_b22_true_final = G_b22_true.eval(sess)\n",
    "\n",
    "G_W3_true_final = G_W3_true.eval(sess)\n",
    "G_b3_true_final = G_b3_true.eval(sess)\n",
    "\n",
    "G_W2_censor_final = G_W2_censor.eval(sess)\n",
    "G_b2_censor_final = G_b2_censor.eval(sess)\n",
    "G_W22_censor_final = G_W22_censor.eval(sess)\n",
    "G_b22_censor_final = G_b22_censor.eval(sess)\n",
    "\n",
    "G_W3_censor_final = G_W3_censor.eval(sess)\n",
    "G_b3_censor_final = G_b3_censor.eval(sess)"
   ]
  },
  {
   "cell_type": "code",
   "execution_count": 23,
   "metadata": {},
   "outputs": [],
   "source": [
    "import operator\n",
    "T = generate_real(2000, X_dim)\n",
    "x = T[:,:-2]\n",
    "y = T[:,-2:-1]\n",
    "L = sorted(zip(x,y), key=operator.itemgetter(0))\n",
    "x, y = zip(*L)"
   ]
  },
  {
   "cell_type": "code",
   "execution_count": 24,
   "metadata": {},
   "outputs": [],
   "source": [
    "def reLu(x):\n",
    "    return np.maximum(x,0)\n",
    "\n",
    "pred = np.dot(reLu(np.dot(reLu(np.dot(x, G_W2_true_final) + G_b2_true_final), G_W22_true_final) \\\n",
    "                   + G_b22_true_final), G_W3_true_final) + G_b3_true_final\n",
    "pred_c = np.dot(reLu(np.dot(reLu(np.dot(x, G_W2_censor_final) + G_b2_censor_final), G_W22_censor_final) \\\n",
    "                     + G_b22_censor_final), G_W3_censor_final) + G_b3_censor_final"
   ]
  },
  {
   "cell_type": "code",
   "execution_count": 25,
   "metadata": {},
   "outputs": [
    {
     "data": {
      "text/plain": [
       "[<matplotlib.lines.Line2D at 0x7fdbcc6847f0>]"
      ]
     },
     "execution_count": 25,
     "metadata": {},
     "output_type": "execute_result"
    },
    {
     "data": {
      "image/png": "[encoded data removed]",
      "text/plain": [
       "<matplotlib.figure.Figure at 0x7fdca8596128>"
      ]
     },
     "metadata": {},
     "output_type": "display_data"
    }
   ],
   "source": [
    "%matplotlib inline\n",
    "import matplotlib.pyplot as plt\n",
    "plt.plot(y)"
   ]
  },
  {
   "cell_type": "code",
   "execution_count": 26,
   "metadata": {},
   "outputs": [
    {
     "data": {
      "text/plain": [
       "[<matplotlib.lines.Line2D at 0x7fdbcc6b2588>]"
      ]
     },
     "execution_count": 26,
     "metadata": {},
     "output_type": "execute_result"
    },
    {
     "data": {
      "image/png": "[encoded data removed]",
      "text/plain": [
       "<matplotlib.figure.Figure at 0x7fdbcc68e908>"
      ]
     },
     "metadata": {},
     "output_type": "display_data"
    }
   ],
   "source": [
    "plt.plot(pred)"
   ]
  },
  {
   "cell_type": "code",
   "execution_count": 27,
   "metadata": {},
   "outputs": [
    {
     "data": {
      "text/plain": [
       "[<matplotlib.lines.Line2D at 0x7fdbcc64f1d0>]"
      ]
     },
     "execution_count": 27,
     "metadata": {},
     "output_type": "execute_result"
    },
    {
     "data": {
      "image/png": "[encoded data removed]",
      "text/plain": [
       "<matplotlib.figure.Figure at 0x7fdbcc6b8518>"
      ]
     },
     "metadata": {},
     "output_type": "display_data"
    }
   ],
   "source": [
    "plt.plot(pred_c)"
   ]
  },
  {
   "cell_type": "code",
   "execution_count": 28,
   "metadata": {},
   "outputs": [
    {
     "data": {
      "text/plain": [
       "[<matplotlib.lines.Line2D at 0x7fdc0c038390>]"
      ]
     },
     "execution_count": 28,
     "metadata": {},
     "output_type": "execute_result"
    },
    {
     "data": {
      "image/png": "[encoded data removed]",
      "text/plain": [
       "<matplotlib.figure.Figure at 0x7fdbdc7cc9b0>"
      ]
     },
     "metadata": {},
     "output_type": "display_data"
    }
   ],
   "source": [
    "plt.plot(np.maximum(pred, pred_c))"
   ]
  },
  {
   "cell_type": "code",
   "execution_count": null,
   "metadata": {},
   "outputs": [],
   "source": []
  },
  {
   "cell_type": "code",
   "execution_count": 24,
   "metadata": {},
   "outputs": [],
   "source": [
    "G_W2_true_final = G_W2_true.eval(sess)\n",
    "G_W2_censor_final = G_W2_censor.eval(sess)\n",
    "G_b2_true_final = G_b2_true.eval(sess)\n",
    "G_b2_censor_final = G_b2_censor.eval(sess)\n",
    "\n",
    "G_W3_true_final = G_W3_true.eval(sess)\n",
    "G_W3_censor_final = G_W3_censor.eval(sess)\n",
    "G_b3_true_final = G_b3_true.eval(sess)\n",
    "G_b3_censor_final = G_b3_censor.eval(sess)"
   ]
  },
  {
   "cell_type": "code",
   "execution_count": 25,
   "metadata": {},
   "outputs": [
    {
     "data": {
      "text/plain": [
       "array([[ 167.        ,    0.        ],\n",
       "       [ 167.        ,    0.        ],\n",
       "       [ 168.71779885,    1.        ],\n",
       "       [ 167.        ,    0.        ],\n",
       "       [ 167.        ,    0.        ],\n",
       "       [ 167.        ,    0.        ],\n",
       "       [ 167.        ,    0.        ],\n",
       "       [ 167.        ,    0.        ],\n",
       "       [ 167.        ,    0.        ],\n",
       "       [ 167.        ,    0.        ],\n",
       "       [ 167.        ,    0.        ],\n",
       "       [ 171.64717848,    1.        ],\n",
       "       [ 167.        ,    0.        ],\n",
       "       [ 170.98451881,    1.        ],\n",
       "       [ 171.01810921,    1.        ],\n",
       "       [ 167.        ,    0.        ],\n",
       "       [ 168.28288874,    1.        ],\n",
       "       [ 168.44981734,    1.        ],\n",
       "       [ 171.00604524,    1.        ],\n",
       "       [ 174.96773967,    1.        ]])"
      ]
     },
     "execution_count": 25,
     "metadata": {},
     "output_type": "execute_result"
    }
   ],
   "source": [
    "T = generate_real(20, 500)\n",
    "x = T[:,:-2]\n",
    "y = T[:,-2:]\n",
    "y"
   ]
  },
  {
   "cell_type": "code",
   "execution_count": 26,
   "metadata": {},
   "outputs": [],
   "source": [
    "def reLu(x):\n",
    "    return np.maximum(x,0)"
   ]
  },
  {
   "cell_type": "code",
   "execution_count": 27,
   "metadata": {},
   "outputs": [
    {
     "data": {
      "text/plain": [
       "array([[  -3166.39379883],\n",
       "       [   9377.14034659],\n",
       "       [   4363.44525221],\n",
       "       [  -2920.04010571],\n",
       "       [  -3446.74525947],\n",
       "       [  -3166.39379883],\n",
       "       [  -3157.03089821],\n",
       "       [   2287.30149598],\n",
       "       [  -3050.4801076 ],\n",
       "       [   7827.00726212],\n",
       "       [  68247.41605706],\n",
       "       [  -3145.41691413],\n",
       "       [   7531.66070081],\n",
       "       [   5997.82775318],\n",
       "       [ 118841.49826793],\n",
       "       [ 121002.12619303],\n",
       "       [  -2498.54618577],\n",
       "       [  -3166.39379883],\n",
       "       [   1453.09201694],\n",
       "       [  -3110.85289654]])"
      ]
     },
     "execution_count": 27,
     "metadata": {},
     "output_type": "execute_result"
    }
   ],
   "source": [
    "np.dot(reLu(np.dot(x, G_W2_true_final) + G_b2_true_final), G_W3_true_final) + G_b3_true_final"
   ]
  },
  {
   "cell_type": "code",
   "execution_count": 16,
   "metadata": {},
   "outputs": [
    {
     "data": {
      "text/plain": [
       "array([[  -2368.560813  ],\n",
       "       [  25156.51526059],\n",
       "       [  -4070.19691073],\n",
       "       [    232.06731866],\n",
       "       [  -3706.66680694],\n",
       "       [  30055.52632533],\n",
       "       [   6634.83508854],\n",
       "       [  -7918.27282903],\n",
       "       [  26682.33489182],\n",
       "       [  36477.6404001 ],\n",
       "       [-138715.83809321],\n",
       "       [  -5160.89322788],\n",
       "       [   -611.99924803],\n",
       "       [  -1641.81348122],\n",
       "       [  -3440.0113892 ],\n",
       "       [  44197.95897158],\n",
       "       [  20199.18530203],\n",
       "       [ -48621.49225037],\n",
       "       [   -874.76600672],\n",
       "       [   7166.54746543]])"
      ]
     },
     "execution_count": 16,
     "metadata": {},
     "output_type": "execute_result"
    }
   ],
   "source": [
    "np.dot(reLu(np.dot(x, G_W2_censor_final) + G_b2_censor_final), G_W3_censor_final) + G_b3_censor_final"
   ]
  },
  {
   "cell_type": "code",
   "execution_count": 17,
   "metadata": {},
   "outputs": [
    {
     "data": {
      "text/plain": [
       "array([[ 41.99728394,  -1.5614028 ,  60.63169861, ...,  67.57331085,\n",
       "         60.04205322,  68.30484009],\n",
       "       [  8.93989754,  31.48656273,  12.77091408, ...,  36.04014969,\n",
       "         47.74028015,  69.70648193],\n",
       "       [-11.12920761,  -5.83709908, -15.9511652 , ...,  29.95226669,\n",
       "         35.26268387,   4.27093697],\n",
       "       ..., \n",
       "       [  9.99962711,  -8.98656178,  17.98326874, ..., -19.23607445,\n",
       "         -6.32428455,  -4.44753933],\n",
       "       [ 17.94629478,  21.32577324,  85.31217957, ...,  61.66514587,\n",
       "         47.30208206,  48.70897675],\n",
       "       [ 20.60667419,  15.96886349,  19.45601273, ...,  35.0466423 ,\n",
       "         11.98658276,  -1.68000185]], dtype=float32)"
      ]
     },
     "execution_count": 17,
     "metadata": {},
     "output_type": "execute_result"
    }
   ],
   "source": [
    "G_W2_censor_final"
   ]
  },
  {
   "cell_type": "code",
   "execution_count": null,
   "metadata": {},
   "outputs": [],
   "source": []
  }
 ],
 "metadata": {
  "kernelspec": {
   "display_name": "tensorflow_python3",
   "language": "python",
   "name": "tensorflow_python3"
  },
  "language_info": {
   "codemirror_mode": {
    "name": "ipython",
    "version": 3
   },
   "file_extension": ".py",
   "mimetype": "text/x-python",
   "name": "python",
   "nbconvert_exporter": "python",
   "pygments_lexer": "ipython3",
   "version": "3.5.2"
  }
 },
 "nbformat": 4,
 "nbformat_minor": 2
}
