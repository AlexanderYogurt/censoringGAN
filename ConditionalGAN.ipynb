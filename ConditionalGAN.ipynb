{
 "cells": [
  {
   "cell_type": "code",
   "execution_count": 1,
   "metadata": {},
   "outputs": [],
   "source": [
    "import tensorflow as tf\n",
    "from tensorflow.examples.tutorials.mnist import input_data\n",
    "import numpy as np\n",
    "import matplotlib.pyplot as plt\n",
    "import matplotlib.gridspec as gridspec\n",
    "import os\n",
    "\n",
    "os.environ['TF_CPP_MIN_LOG_LEVEL'] = '3'\n",
    "os.environ[\"CUDA_VISIBLE_DEVICES\"]=\"1\""
   ]
  },
  {
   "cell_type": "code",
   "execution_count": 44,
   "metadata": {},
   "outputs": [],
   "source": [
    "mb_size = 64 # batch size\n",
    "Z_dim = 256\n",
    "X_dim = 1\n",
    "i_dim = 1\n",
    "\n",
    "def xavier_init(size):\n",
    "    in_dim = size[0]\n",
    "    xavier_stddev = 1. / tf.sqrt(in_dim / 2.)\n",
    "    return tf.random_normal(shape=size, stddev=xavier_stddev)"
   ]
  },
  {
   "cell_type": "code",
   "execution_count": 52,
   "metadata": {},
   "outputs": [],
   "source": [
    "\"\"\" Discriminator Net model \"\"\"\n",
    "h_dim = 128\n",
    "\n",
    "X = tf.placeholder(tf.float32, shape=[None, X_dim + 1])\n",
    "ind = tf.placeholder(tf.float32, shape=[None, i_dim])\n",
    "Z = tf.placeholder(tf.float32, shape=[None, Z_dim])\n",
    "\n",
    "D_W1 = tf.Variable(xavier_init([X_dim + 1 + i_dim, h_dim]))\n",
    "D_b1 = tf.Variable(tf.zeros(shape=[h_dim]))\n",
    "\n",
    "D_W2 = tf.Variable(xavier_init([h_dim, 1]))\n",
    "D_b2 = tf.Variable(tf.zeros(shape=[1]))\n",
    "\n",
    "theta_D = [D_W1, D_W2, D_b1, D_b2]\n",
    "\n",
    "def discriminator(x, ind):\n",
    "    inputs = tf.concat(axis=1, values=[x, ind])\n",
    "    D_h1 = tf.nn.relu(tf.matmul(inputs, D_W1) + D_b1)\n",
    "    D_logit = tf.matmul(D_h1, D_W2) + D_b2\n",
    "    D_prob = tf.nn.sigmoid(D_logit)\n",
    "\n",
    "    return D_prob, D_logit"
   ]
  },
  {
   "cell_type": "code",
   "execution_count": 56,
   "metadata": {},
   "outputs": [],
   "source": [
    "\"\"\" Generator Net model \"\"\"\n",
    "h_dim_1 = 256\n",
    "h_dim_2 = 128\n",
    "h_dim_3 = 64\n",
    "\n",
    "G_W0 = tf.Variable(xavier_init([Z_dim, h_dim_1]))\n",
    "G_b0 = tf.Variable(tf.zeros(shape=[h_dim_1]))\n",
    "G_W1 = tf.Variable(xavier_init([h_dim_1, X_dim ]))\n",
    "G_b1 = tf.Variable(tf.zeros(shape=[X_dim]))\n",
    "\n",
    "# latent net weights and biases\n",
    "G_W2_latent = tf.Variable(xavier_init([X_dim + i_dim, h_dim_2]))\n",
    "G_b2_latent = tf.Variable(tf.zeros(shape=[h_dim_2]))\n",
    "G_W3_latent = tf.Variable(xavier_init([h_dim_2, h_dim_3]))\n",
    "G_b3_latent = tf.Variable(tf.zeros(shape=[h_dim_3]))\n",
    "G_W4_latent = tf.Variable(xavier_init([h_dim_3, 1]))\n",
    "G_b4_latent = tf.Variable(tf.zeros(shape=[1]))\n",
    "\n",
    "# censor net weights and biases\n",
    "G_W2_censor = tf.Variable(xavier_init([X_dim + i_dim, h_dim_2]))\n",
    "G_b2_censor = tf.Variable(tf.zeros(shape=[h_dim_2]))\n",
    "G_W3_censor = tf.Variable(xavier_init([h_dim_2, h_dim_3]))\n",
    "G_b3_censor = tf.Variable(tf.zeros(shape=[h_dim_3]))\n",
    "G_W4_censor = tf.Variable(xavier_init([h_dim_3, 1]))\n",
    "G_b4_censor = tf.Variable(tf.zeros(shape=[1]))\n",
    "\n",
    "theta_G = [G_W0, G_W1, \\\n",
    "           G_b0, G_b1, \\\n",
    "           G_W2_latent, G_W3_latent, G_W4_latent, \\\n",
    "           G_b2_latent, G_b3_latent, G_b4_latent, \\\n",
    "           G_W2_censor, G_W3_censor, G_W4_censor, \\\n",
    "           G_b2_censor, G_b3_censor, G_b4_censor]\n",
    "\n",
    "def generator(z, ind):\n",
    "    G_x = tf.matmul(tf.nn.relu(tf.matmul(z, G_W0) + G_b0), G_W1) + G_b1 # X_dim\n",
    "    G_x_ind = tf.concat(axis=1, values=[G_x, ind])\n",
    "    \n",
    "    G_h_latent = tf.nn.relu(tf.matmul(G_x_ind, G_W2_latent) + G_b2_latent)\n",
    "    G_h_censor = tf.nn.relu(tf.matmul(G_x_ind, G_W2_censor) + G_b2_censor)\n",
    "    \n",
    "    G_h2_latent = tf.nn.relu(tf.matmul(G_h_latent, G_W3_latent) + G_b3_latent)\n",
    "    G_h2_censor = tf.nn.relu(tf.matmul(G_h_censor, G_W3_censor) + G_b3_censor)\n",
    "    \n",
    "    G_t = tf.matmul(G_h2_latent, G_W4_latent) + G_b4_latent\n",
    "    G_c = tf.matmul(G_h2_censor, G_W4_censor) + G_b4_censor\n",
    "    \n",
    "    G_y = tf.maximum(G_t, G_c) # left censoring\n",
    "    \n",
    "    G_prob = tf.concat([G_x, G_y], axis=1)\n",
    "\n",
    "    return G_prob"
   ]
  },
  {
   "cell_type": "code",
   "execution_count": 57,
   "metadata": {},
   "outputs": [],
   "source": [
    "def sample_Z(m, n):\n",
    "    return np.random.uniform(-1., 1., size=[m, n])"
   ]
  },
  {
   "cell_type": "code",
   "execution_count": 58,
   "metadata": {},
   "outputs": [],
   "source": [
    "G_sample = generator(Z, ind)\n",
    "D_real, D_logit_real = discriminator(X, ind)\n",
    "D_fake, D_logit_fake = discriminator(G_sample, ind)\n",
    "\n",
    "D_loss_real = tf.reduce_mean(tf.nn.sigmoid_cross_entropy_with_logits(logits=D_logit_real, labels=tf.ones_like(D_logit_real)))\n",
    "D_loss_fake = tf.reduce_mean(tf.nn.sigmoid_cross_entropy_with_logits(logits=D_logit_fake, labels=tf.zeros_like(D_logit_fake)))\n",
    "D_loss = D_loss_real + D_loss_fake\n",
    "G_loss = tf.reduce_mean(tf.nn.sigmoid_cross_entropy_with_logits(logits=D_logit_fake, labels=tf.ones_like(D_logit_fake)))\n",
    "\n",
    "D_solver = tf.train.AdamOptimizer().minimize(D_loss, var_list=theta_D)\n",
    "G_solver = tf.train.AdamOptimizer().minimize(G_loss, var_list=theta_G)"
   ]
  },
  {
   "cell_type": "code",
   "execution_count": 59,
   "metadata": {},
   "outputs": [],
   "source": [
    "sess = tf.Session()\n",
    "sess.run(tf.global_variables_initializer())"
   ]
  },
  {
   "cell_type": "code",
   "execution_count": 60,
   "metadata": {},
   "outputs": [],
   "source": [
    "def generate_real(m, d):\n",
    "    x = np.random.uniform(-1., 1., size=[m, d])\n",
    "    t = np.sum(x**2, axis=1, keepdims=True)\n",
    "    c = 0.2*np.ones_like(t)\n",
    "    y = np.maximum(t,c) # left censoring\n",
    "    ind = np.argmax([c,t], axis=0) # indicator of censoring\n",
    "    return np.concatenate((x,y), axis=1), ind"
   ]
  },
  {
   "cell_type": "code",
   "execution_count": null,
   "metadata": {},
   "outputs": [
    {
     "name": "stdout",
     "output_type": "stream",
     "text": [
      "Iter: 0\n",
      "D loss: 1.949\n",
      "G_loss: 0.3165\n",
      "\n",
      "Iter: 1000\n",
      "D loss: 1.281\n",
      "G_loss: 0.7379\n",
      "\n",
      "Iter: 2000\n",
      "D loss: 1.225\n",
      "G_loss: 1.003\n",
      "\n",
      "Iter: 3000\n",
      "D loss: 1.261\n",
      "G_loss: 1.742\n",
      "\n",
      "Iter: 4000\n",
      "D loss: 0.6769\n",
      "G_loss: 1.356\n",
      "\n",
      "Iter: 5000\n",
      "D loss: 0.7648\n",
      "G_loss: 1.546\n",
      "\n",
      "Iter: 6000\n",
      "D loss: 0.812\n",
      "G_loss: 1.806\n",
      "\n",
      "Iter: 7000\n",
      "D loss: 0.5613\n",
      "G_loss: 1.833\n",
      "\n",
      "Iter: 8000\n",
      "D loss: 0.6016\n",
      "G_loss: 2.085\n",
      "\n",
      "Iter: 9000\n",
      "D loss: 1.925\n",
      "G_loss: 1.038\n",
      "\n",
      "Iter: 10000\n",
      "D loss: 0.4613\n",
      "G_loss: 2.208\n",
      "\n",
      "Iter: 11000\n",
      "D loss: 0.7551\n",
      "G_loss: 1.759\n",
      "\n",
      "Iter: 12000\n",
      "D loss: 0.6653\n",
      "G_loss: 2.282\n",
      "\n",
      "Iter: 13000\n",
      "D loss: 0.4686\n",
      "G_loss: 2.733\n",
      "\n",
      "Iter: 14000\n",
      "D loss: 0.4742\n",
      "G_loss: 2.373\n",
      "\n",
      "Iter: 15000\n",
      "D loss: 0.3174\n",
      "G_loss: 2.858\n",
      "\n",
      "Iter: 16000\n",
      "D loss: 0.6098\n",
      "G_loss: 2.528\n",
      "\n",
      "Iter: 17000\n",
      "D loss: 0.3921\n",
      "G_loss: 3.197\n",
      "\n",
      "Iter: 18000\n",
      "D loss: 0.4647\n",
      "G_loss: 2.481\n",
      "\n",
      "Iter: 19000\n",
      "D loss: 0.3969\n",
      "G_loss: 2.736\n",
      "\n",
      "Iter: 20000\n",
      "D loss: 0.6586\n",
      "G_loss: 2.672\n",
      "\n",
      "Iter: 21000\n",
      "D loss: 0.6652\n",
      "G_loss: 2.824\n",
      "\n",
      "Iter: 22000\n",
      "D loss: 0.4554\n",
      "G_loss: 2.571\n",
      "\n",
      "Iter: 23000\n",
      "D loss: 0.4959\n",
      "G_loss: 2.804\n",
      "\n",
      "Iter: 24000\n",
      "D loss: 0.4055\n",
      "G_loss: 2.869\n",
      "\n",
      "Iter: 25000\n",
      "D loss: 0.5011\n",
      "G_loss: 2.726\n",
      "\n",
      "Iter: 26000\n",
      "D loss: 0.4436\n",
      "G_loss: 2.678\n",
      "\n",
      "Iter: 27000\n",
      "D loss: 0.3027\n",
      "G_loss: 2.823\n",
      "\n",
      "Iter: 28000\n",
      "D loss: 0.364\n",
      "G_loss: 2.555\n",
      "\n",
      "Iter: 29000\n",
      "D loss: 0.2897\n",
      "G_loss: 2.72\n",
      "\n",
      "Iter: 30000\n",
      "D loss: 0.7454\n",
      "G_loss: 2.161\n",
      "\n",
      "Iter: 31000\n",
      "D loss: 0.6135\n",
      "G_loss: 2.585\n",
      "\n",
      "Iter: 32000\n",
      "D loss: 0.359\n",
      "G_loss: 2.637\n",
      "\n",
      "Iter: 33000\n",
      "D loss: 0.3598\n",
      "G_loss: 3.175\n",
      "\n",
      "Iter: 34000\n",
      "D loss: 0.4492\n",
      "G_loss: 2.999\n",
      "\n",
      "Iter: 35000\n",
      "D loss: 0.3109\n",
      "G_loss: 3.009\n",
      "\n",
      "Iter: 36000\n",
      "D loss: 0.3738\n",
      "G_loss: 2.618\n",
      "\n",
      "Iter: 37000\n",
      "D loss: 0.3951\n",
      "G_loss: 3.145\n",
      "\n",
      "Iter: 38000\n",
      "D loss: 0.4707\n",
      "G_loss: 3.166\n",
      "\n",
      "Iter: 39000\n",
      "D loss: 0.3434\n",
      "G_loss: 3.119\n",
      "\n",
      "Iter: 40000\n",
      "D loss: 0.3745\n",
      "G_loss: 2.78\n",
      "\n",
      "Iter: 41000\n",
      "D loss: 0.2299\n",
      "G_loss: 3.403\n",
      "\n",
      "Iter: 42000\n",
      "D loss: 0.2549\n",
      "G_loss: 3.086\n",
      "\n",
      "Iter: 43000\n",
      "D loss: 0.1886\n",
      "G_loss: 3.108\n",
      "\n",
      "Iter: 44000\n",
      "D loss: 0.3609\n",
      "G_loss: 3.29\n",
      "\n",
      "Iter: 45000\n",
      "D loss: 0.2675\n",
      "G_loss: 3.532\n",
      "\n",
      "Iter: 46000\n",
      "D loss: 0.2898\n",
      "G_loss: 3.489\n",
      "\n",
      "Iter: 47000\n",
      "D loss: 0.2314\n",
      "G_loss: 3.394\n",
      "\n",
      "Iter: 48000\n",
      "D loss: 0.4186\n",
      "G_loss: 3.506\n",
      "\n",
      "Iter: 49000\n",
      "D loss: 0.2702\n",
      "G_loss: 3.757\n",
      "\n",
      "Iter: 50000\n",
      "D loss: 0.1899\n",
      "G_loss: 3.717\n",
      "\n",
      "Iter: 51000\n",
      "D loss: 0.3543\n",
      "G_loss: 3.432\n",
      "\n",
      "Iter: 52000\n",
      "D loss: 0.1583\n",
      "G_loss: 3.438\n",
      "\n",
      "Iter: 53000\n",
      "D loss: 0.4987\n",
      "G_loss: 3.612\n",
      "\n",
      "Iter: 54000\n",
      "D loss: 0.177\n",
      "G_loss: 3.363\n",
      "\n",
      "Iter: 55000\n",
      "D loss: 0.1624\n",
      "G_loss: 3.228\n",
      "\n",
      "Iter: 56000\n",
      "D loss: 0.3051\n",
      "G_loss: 3.239\n",
      "\n",
      "Iter: 57000\n",
      "D loss: 0.09961\n",
      "G_loss: 4.142\n",
      "\n",
      "Iter: 58000\n",
      "D loss: 0.3021\n",
      "G_loss: 3.871\n",
      "\n",
      "Iter: 59000\n",
      "D loss: 0.1271\n",
      "G_loss: 3.403\n",
      "\n",
      "Iter: 60000\n",
      "D loss: 0.3612\n",
      "G_loss: 3.518\n",
      "\n",
      "Iter: 61000\n",
      "D loss: 0.4094\n",
      "G_loss: 3.566\n",
      "\n",
      "Iter: 62000\n",
      "D loss: 0.1849\n",
      "G_loss: 3.507\n",
      "\n",
      "Iter: 63000\n",
      "D loss: 0.2919\n",
      "G_loss: 4.0\n",
      "\n",
      "Iter: 64000\n",
      "D loss: 0.1928\n",
      "G_loss: 3.501\n",
      "\n",
      "Iter: 65000\n",
      "D loss: 0.1568\n",
      "G_loss: 3.932\n",
      "\n",
      "Iter: 66000\n",
      "D loss: 0.2671\n",
      "G_loss: 3.756\n",
      "\n"
     ]
    }
   ],
   "source": [
    "D = 1\n",
    "G = 1\n",
    "for it in range(1000001):\n",
    "    \n",
    "    for d in D:\n",
    "        X_mb, ind_mb = generate_real(mb_size, X_dim)\n",
    "        Z_sample = sample_Z(mb_size, Z_dim)\n",
    "        _, D_loss_curr = sess.run([D_solver, D_loss], feed_dict={X: X_mb, Z: Z_sample, ind:ind_mb})\n",
    "        \n",
    "    for g in G:\n",
    "        _, ind_mb = generate_real(mb_size, X_dim)\n",
    "        Z_sample = sample_Z(mb_size, Z_dim)\n",
    "        _, G_loss_curr = sess.run([G_solver, G_loss], feed_dict={Z: Z_sample, ind:ind_mb})\n",
    "\n",
    "    if D_loss_curr < 0.5:\n",
    "        G = 10\n",
    "    else:\n",
    "        G = 1\n",
    "        \n",
    "    if it % 1000 == 0:\n",
    "        print('Iter: {}'.format(it))\n",
    "        print('D loss: {:.4}'. format(D_loss_curr))\n",
    "        print('G_loss: {:.4}'.format(G_loss_curr))\n",
    "        print()"
   ]
  },
  {
   "cell_type": "code",
   "execution_count": 24,
   "metadata": {},
   "outputs": [],
   "source": [
    "# test\n",
    "G_W2_latent_final = G_W2_latent.eval(sess)\n",
    "G_b2_latent_final = G_b2_latent.eval(sess)\n",
    "G_W3_latent_final = G_W3_latent.eval(sess)\n",
    "G_b3_latent_final = G_b3_latent.eval(sess)\n",
    "G_W4_latent_final = G_W4_latent.eval(sess)\n",
    "G_b4_latent_final = G_b4_latent.eval(sess)\n",
    "\n",
    "G_W2_censor_final = G_W2_censor.eval(sess)\n",
    "G_b2_censor_final = G_b2_censor.eval(sess)\n",
    "G_W3_censor_final = G_W3_censor.eval(sess)\n",
    "G_b3_censor_final = G_b3_censor.eval(sess)\n",
    "G_W4_censor_final = G_W4_censor.eval(sess)\n",
    "G_b4_censor_final = G_b4_censor.eval(sess)"
   ]
  },
  {
   "cell_type": "code",
   "execution_count": 34,
   "metadata": {},
   "outputs": [],
   "source": [
    "import operator\n",
    "T = generate_real(2000, X_dim)\n",
    "x = T[0][:,:-1]\n",
    "y = T[0][:,-1]\n",
    "i = T[1]\n",
    "L = sorted(zip(x,y), key=operator.itemgetter(0))\n",
    "x, y = zip(*L)"
   ]
  },
  {
   "cell_type": "code",
   "execution_count": 39,
   "metadata": {},
   "outputs": [],
   "source": [
    "def reLu(x):\n",
    "    return np.maximum(x,0)\n",
    "\n",
    "pred = np.dot(reLu(np.dot(reLu(np.dot(x, G_W2_latent_final) + G_b2_latent_final), G_W3_latent_final) \\\n",
    "                   + G_b3_latent_final), G_W4_latent_final) + G_b4_latent_final\n",
    "pred_c = np.dot(reLu(np.dot(reLu(np.dot(x, G_W2_censor_final) + G_b2_censor_final), G_W3_censor_final) \\\n",
    "                     + G_b3_censor_final), G_W4_censor_final) + G_b4_censor_final"
   ]
  },
  {
   "cell_type": "code",
   "execution_count": 40,
   "metadata": {},
   "outputs": [
    {
     "data": {
      "text/plain": [
       "[<matplotlib.lines.Line2D at 0x7f883c4c5d68>]"
      ]
     },
     "execution_count": 40,
     "metadata": {},
     "output_type": "execute_result"
    },
    {
     "data": {
      "image/png": "[encoded data removed]",
      "text/plain": [
       "<matplotlib.figure.Figure at 0x7f8840485ba8>"
      ]
     },
     "metadata": {},
     "output_type": "display_data"
    }
   ],
   "source": [
    "%matplotlib inline\n",
    "import matplotlib.pyplot as plt\n",
    "plt.plot(y)"
   ]
  },
  {
   "cell_type": "code",
   "execution_count": 41,
   "metadata": {},
   "outputs": [
    {
     "data": {
      "text/plain": [
       "[<matplotlib.lines.Line2D at 0x7f883c43e4e0>]"
      ]
     },
     "execution_count": 41,
     "metadata": {},
     "output_type": "execute_result"
    },
    {
     "data": {
      "image/png": "[encoded data removed]",
      "text/plain": [
       "<matplotlib.figure.Figure at 0x7f883c46cfd0>"
      ]
     },
     "metadata": {},
     "output_type": "display_data"
    }
   ],
   "source": [
    "plt.plot(pred)"
   ]
  },
  {
   "cell_type": "code",
   "execution_count": 42,
   "metadata": {},
   "outputs": [
    {
     "data": {
      "text/plain": [
       "[<matplotlib.lines.Line2D at 0x7f88247d8278>]"
      ]
     },
     "execution_count": 42,
     "metadata": {},
     "output_type": "execute_result"
    },
    {
     "data": {
      "image/png": "[encoded data removed]",
      "text/plain": [
       "<matplotlib.figure.Figure at 0x7f883c46cda0>"
      ]
     },
     "metadata": {},
     "output_type": "display_data"
    }
   ],
   "source": [
    "plt.plot(pred_c)"
   ]
  },
  {
   "cell_type": "code",
   "execution_count": 43,
   "metadata": {},
   "outputs": [
    {
     "data": {
      "text/plain": [
       "[<matplotlib.lines.Line2D at 0x7f882479c668>]"
      ]
     },
     "execution_count": 43,
     "metadata": {},
     "output_type": "execute_result"
    },
    {
     "data": {
      "image/png": "[encoded data removed]",
      "text/plain": [
       "<matplotlib.figure.Figure at 0x7f88247f40f0>"
      ]
     },
     "metadata": {},
     "output_type": "display_data"
    }
   ],
   "source": [
    "plt.plot(np.maximum(pred, pred_c))"
   ]
  },
  {
   "cell_type": "code",
   "execution_count": null,
   "metadata": {},
   "outputs": [],
   "source": []
  }
 ],
 "metadata": {
  "kernelspec": {
   "display_name": "tensorflow_python3",
   "language": "python",
   "name": "tensorflow_python3"
  },
  "language_info": {
   "codemirror_mode": {
    "name": "ipython",
    "version": 3
   },
   "file_extension": ".py",
   "mimetype": "text/x-python",
   "name": "python",
   "nbconvert_exporter": "python",
   "pygments_lexer": "ipython3",
   "version": "3.5.2"
  }
 },
 "nbformat": 4,
 "nbformat_minor": 2
}
