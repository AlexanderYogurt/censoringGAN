{
 "cells": [
  {
   "cell_type": "code",
   "execution_count": 1,
   "metadata": {},
   "outputs": [],
   "source": [
    "import tensorflow as tf\n",
    "from tensorflow.examples.tutorials.mnist import input_data\n",
    "import numpy as np\n",
    "import matplotlib.pyplot as plt\n",
    "import matplotlib.gridspec as gridspec\n",
    "import os\n",
    "\n",
    "os.environ['TF_CPP_MIN_LOG_LEVEL'] = '3'\n",
    "os.environ[\"CUDA_VISIBLE_DEVICES\"]=\"1\""
   ]
  },
  {
   "cell_type": "code",
   "execution_count": 44,
   "metadata": {},
   "outputs": [],
   "source": [
    "mb_size = 64 # batch size\n",
    "Z_dim = 256\n",
    "X_dim = 1\n",
    "i_dim = 1\n",
    "\n",
    "def xavier_init(size):\n",
    "    in_dim = size[0]\n",
    "    xavier_stddev = 1. / tf.sqrt(in_dim / 2.)\n",
    "    return tf.random_normal(shape=size, stddev=xavier_stddev)"
   ]
  },
  {
   "cell_type": "code",
   "execution_count": 52,
   "metadata": {},
   "outputs": [],
   "source": [
    "\"\"\" Discriminator Net model \"\"\"\n",
    "h_dim = 128\n",
    "\n",
    "X = tf.placeholder(tf.float32, shape=[None, X_dim + 1])\n",
    "ind = tf.placeholder(tf.float32, shape=[None, i_dim])\n",
    "Z = tf.placeholder(tf.float32, shape=[None, Z_dim])\n",
    "\n",
    "D_W1 = tf.Variable(xavier_init([X_dim + 1 + i_dim, h_dim]))\n",
    "D_b1 = tf.Variable(tf.zeros(shape=[h_dim]))\n",
    "\n",
    "D_W2 = tf.Variable(xavier_init([h_dim, 1]))\n",
    "D_b2 = tf.Variable(tf.zeros(shape=[1]))\n",
    "\n",
    "theta_D = [D_W1, D_W2, D_b1, D_b2]\n",
    "\n",
    "def discriminator(x, ind):\n",
    "    inputs = tf.concat(axis=1, values=[x, ind])\n",
    "    D_h1 = tf.nn.relu(tf.matmul(inputs, D_W1) + D_b1)\n",
    "    D_logit = tf.matmul(D_h1, D_W2) + D_b2\n",
    "    D_prob = tf.nn.sigmoid(D_logit)\n",
    "\n",
    "    return D_prob, D_logit"
   ]
  },
  {
   "cell_type": "code",
   "execution_count": 56,
   "metadata": {},
   "outputs": [],
   "source": [
    "\"\"\" Generator Net model \"\"\"\n",
    "h_dim_1 = 256\n",
    "h_dim_2 = 128\n",
    "h_dim_3 = 64\n",
    "\n",
    "G_W0 = tf.Variable(xavier_init([Z_dim, h_dim_1]))\n",
    "G_b0 = tf.Variable(tf.zeros(shape=[h_dim_1]))\n",
    "G_W1 = tf.Variable(xavier_init([h_dim_1, X_dim ]))\n",
    "G_b1 = tf.Variable(tf.zeros(shape=[X_dim]))\n",
    "\n",
    "# latent net weights and biases\n",
    "G_W2_latent = tf.Variable(xavier_init([X_dim + i_dim, h_dim_2]))\n",
    "G_b2_latent = tf.Variable(tf.zeros(shape=[h_dim_2]))\n",
    "G_W3_latent = tf.Variable(xavier_init([h_dim_2, h_dim_3]))\n",
    "G_b3_latent = tf.Variable(tf.zeros(shape=[h_dim_3]))\n",
    "G_W4_latent = tf.Variable(xavier_init([h_dim_3, 1]))\n",
    "G_b4_latent = tf.Variable(tf.zeros(shape=[1]))\n",
    "\n",
    "# censor net weights and biases\n",
    "G_W2_censor = tf.Variable(xavier_init([X_dim + i_dim, h_dim_2]))\n",
    "G_b2_censor = tf.Variable(tf.zeros(shape=[h_dim_2]))\n",
    "G_W3_censor = tf.Variable(xavier_init([h_dim_2, h_dim_3]))\n",
    "G_b3_censor = tf.Variable(tf.zeros(shape=[h_dim_3]))\n",
    "G_W4_censor = tf.Variable(xavier_init([h_dim_3, 1]))\n",
    "G_b4_censor = tf.Variable(tf.zeros(shape=[1]))\n",
    "\n",
    "theta_G = [G_W0, G_W1, \\\n",
    "           G_b0, G_b1, \\\n",
    "           G_W2_latent, G_W3_latent, G_W4_latent, \\\n",
    "           G_b2_latent, G_b3_latent, G_b4_latent, \\\n",
    "           G_W2_censor, G_W3_censor, G_W4_censor, \\\n",
    "           G_b2_censor, G_b3_censor, G_b4_censor]\n",
    "\n",
    "def generator(z, ind):\n",
    "    G_x = tf.matmul(tf.nn.relu(tf.matmul(z, G_W0) + G_b0), G_W1) + G_b1 # X_dim\n",
    "    G_x_ind = tf.concat(axis=1, values=[G_x, ind])\n",
    "    \n",
    "    G_h_latent = tf.nn.relu(tf.matmul(G_x_ind, G_W2_latent) + G_b2_latent)\n",
    "    G_h_censor = tf.nn.relu(tf.matmul(G_x_ind, G_W2_censor) + G_b2_censor)\n",
    "    \n",
    "    G_h2_latent = tf.nn.relu(tf.matmul(G_h_latent, G_W3_latent) + G_b3_latent)\n",
    "    G_h2_censor = tf.nn.relu(tf.matmul(G_h_censor, G_W3_censor) + G_b3_censor)\n",
    "    \n",
    "    G_t = tf.matmul(G_h2_latent, G_W4_latent) + G_b4_latent\n",
    "    G_c = tf.matmul(G_h2_censor, G_W4_censor) + G_b4_censor\n",
    "    \n",
    "    G_y = tf.maximum(G_t, G_c) # left censoring\n",
    "    \n",
    "    G_prob = tf.concat([G_x, G_y], axis=1)\n",
    "\n",
    "    return G_prob"
   ]
  },
  {
   "cell_type": "code",
   "execution_count": 57,
   "metadata": {},
   "outputs": [],
   "source": [
    "def sample_Z(m, n):\n",
    "    return np.random.uniform(-1., 1., size=[m, n])"
   ]
  },
  {
   "cell_type": "code",
   "execution_count": 58,
   "metadata": {},
   "outputs": [],
   "source": [
    "G_sample = generator(Z, ind)\n",
    "D_real, D_logit_real = discriminator(X, ind)\n",
    "D_fake, D_logit_fake = discriminator(G_sample, ind)\n",
    "\n",
    "D_loss_real = tf.reduce_mean(tf.nn.sigmoid_cross_entropy_with_logits(logits=D_logit_real, labels=tf.ones_like(D_logit_real)))\n",
    "D_loss_fake = tf.reduce_mean(tf.nn.sigmoid_cross_entropy_with_logits(logits=D_logit_fake, labels=tf.zeros_like(D_logit_fake)))\n",
    "D_loss = D_loss_real + D_loss_fake\n",
    "G_loss = tf.reduce_mean(tf.nn.sigmoid_cross_entropy_with_logits(logits=D_logit_fake, labels=tf.ones_like(D_logit_fake)))\n",
    "\n",
    "D_solver = tf.train.AdamOptimizer().minimize(D_loss, var_list=theta_D)\n",
    "G_solver = tf.train.AdamOptimizer().minimize(G_loss, var_list=theta_G)"
   ]
  },
  {
   "cell_type": "code",
   "execution_count": 157,
   "metadata": {},
   "outputs": [],
   "source": [
    "def generate_real(m, d):\n",
    "    x = np.random.uniform(-1., 1., size=[m, d])\n",
    "    t = np.sum(x**2, axis=1, keepdims=True)\n",
    "    c = np.sum(x**2, axis=1, keepdims=True) + 0.5*np.sin(8*np.pi*x)\n",
    "    y = np.maximum(t,c) # left censoring\n",
    "    ind = np.argmax([c,t], axis=0) # indicator of censoring\n",
    "    return np.concatenate((x,y), axis=1), ind"
   ]
  },
  {
   "cell_type": "code",
   "execution_count": 158,
   "metadata": {},
   "outputs": [],
   "source": [
    "import operator\n",
    "T = generate_real(2000, X_dim)\n",
    "x = T[0][:,:-1]\n",
    "y = T[0][:,-1]\n",
    "i = T[1]\n",
    "L = sorted(zip(x,y), key=operator.itemgetter(0))\n",
    "x, y = zip(*L)\n",
    "x = np.array(x)\n",
    "y = np.array(y)"
   ]
  },
  {
   "cell_type": "code",
   "execution_count": 159,
   "metadata": {},
   "outputs": [
    {
     "data": {
      "text/plain": [
       "[<matplotlib.lines.Line2D at 0x7f87bfe39f98>]"
      ]
     },
     "execution_count": 159,
     "metadata": {},
     "output_type": "execute_result"
    },
    {
     "data": {
      "image/png": "[encoded data removed]",
      "text/plain": [
       "<matplotlib.figure.Figure at 0x7f87801944e0>"
      ]
     },
     "metadata": {},
     "output_type": "display_data"
    }
   ],
   "source": [
    "%matplotlib inline\n",
    "import matplotlib.pyplot as plt\n",
    "plt.plot(y)"
   ]
  },
  {
   "cell_type": "code",
   "execution_count": 160,
   "metadata": {},
   "outputs": [
    {
     "name": "stdout",
     "output_type": "stream",
     "text": [
      "Iter: 0\n",
      "D loss: 1.385\n",
      "G_loss: 0.7171\n",
      "\n",
      "Iter: 1000\n",
      "D loss: 1.397\n",
      "G_loss: 0.7435\n",
      "\n",
      "Iter: 2000\n",
      "D loss: 1.637\n",
      "G_loss: 0.5831\n",
      "\n",
      "Iter: 3000\n",
      "D loss: 1.144\n",
      "G_loss: 1.325\n",
      "\n",
      "Iter: 4000\n",
      "D loss: 1.371\n",
      "G_loss: 0.7271\n",
      "\n",
      "Iter: 5000\n",
      "D loss: 1.37\n",
      "G_loss: 0.7201\n",
      "\n",
      "Iter: 6000\n",
      "D loss: 1.352\n",
      "G_loss: 0.7533\n",
      "\n",
      "Iter: 7000\n",
      "D loss: 1.279\n",
      "G_loss: 0.7665\n",
      "\n",
      "Iter: 8000\n",
      "D loss: 1.371\n",
      "G_loss: 0.7616\n",
      "\n",
      "Iter: 9000\n",
      "D loss: 1.335\n",
      "G_loss: 0.7699\n",
      "\n",
      "Iter: 10000\n",
      "D loss: 1.362\n",
      "G_loss: 0.7098\n",
      "\n",
      "Iter: 11000\n",
      "D loss: 1.355\n",
      "G_loss: 0.7031\n",
      "\n",
      "Iter: 12000\n",
      "D loss: 1.367\n",
      "G_loss: 0.7324\n",
      "\n",
      "Iter: 13000\n",
      "D loss: 1.355\n",
      "G_loss: 0.7306\n",
      "\n",
      "Iter: 14000\n",
      "D loss: 1.344\n",
      "G_loss: 0.7479\n",
      "\n",
      "Iter: 15000\n",
      "D loss: 1.393\n",
      "G_loss: 0.8263\n",
      "\n",
      "Iter: 16000\n",
      "D loss: 1.32\n",
      "G_loss: 0.7482\n",
      "\n",
      "Iter: 17000\n",
      "D loss: 1.301\n",
      "G_loss: 0.7981\n",
      "\n",
      "Iter: 18000\n",
      "D loss: 1.339\n",
      "G_loss: 0.7496\n",
      "\n",
      "Iter: 19000\n",
      "D loss: 1.316\n",
      "G_loss: 0.7228\n",
      "\n",
      "Iter: 20000\n",
      "D loss: 1.341\n",
      "G_loss: 0.7525\n",
      "\n",
      "Iter: 21000\n",
      "D loss: 1.288\n",
      "G_loss: 0.7481\n",
      "\n",
      "Iter: 22000\n",
      "D loss: 1.32\n",
      "G_loss: 0.7502\n",
      "\n",
      "Iter: 23000\n",
      "D loss: 1.33\n",
      "G_loss: 0.7507\n",
      "\n",
      "Iter: 24000\n",
      "D loss: 1.333\n",
      "G_loss: 0.7593\n",
      "\n",
      "Iter: 25000\n",
      "D loss: 1.319\n",
      "G_loss: 0.8481\n",
      "\n",
      "Iter: 26000\n",
      "D loss: 1.316\n",
      "G_loss: 0.8051\n",
      "\n",
      "Iter: 27000\n",
      "D loss: 1.274\n",
      "G_loss: 0.7587\n",
      "\n",
      "Iter: 28000\n",
      "D loss: 1.286\n",
      "G_loss: 0.7875\n",
      "\n",
      "Iter: 29000\n",
      "D loss: 1.32\n",
      "G_loss: 0.9045\n",
      "\n",
      "Iter: 30000\n",
      "D loss: 1.356\n",
      "G_loss: 0.754\n",
      "\n",
      "Iter: 31000\n",
      "D loss: 1.317\n",
      "G_loss: 0.7959\n",
      "\n",
      "Iter: 32000\n",
      "D loss: 1.33\n",
      "G_loss: 0.8159\n",
      "\n",
      "Iter: 33000\n",
      "D loss: 1.303\n",
      "G_loss: 0.8066\n",
      "\n",
      "Iter: 34000\n",
      "D loss: 1.259\n",
      "G_loss: 0.847\n",
      "\n",
      "Iter: 35000\n",
      "D loss: 1.295\n",
      "G_loss: 0.7673\n",
      "\n",
      "Iter: 36000\n",
      "D loss: 1.177\n",
      "G_loss: 0.8548\n",
      "\n",
      "Iter: 37000\n",
      "D loss: 1.262\n",
      "G_loss: 0.8607\n",
      "\n",
      "Iter: 38000\n",
      "D loss: 1.251\n",
      "G_loss: 0.834\n",
      "\n",
      "Iter: 39000\n",
      "D loss: 1.28\n",
      "G_loss: 0.7671\n",
      "\n",
      "Iter: 40000\n",
      "D loss: 1.299\n",
      "G_loss: 0.8473\n",
      "\n",
      "Iter: 41000\n",
      "D loss: 1.279\n",
      "G_loss: 0.8271\n",
      "\n",
      "Iter: 42000\n",
      "D loss: 1.227\n",
      "G_loss: 0.7621\n",
      "\n",
      "Iter: 43000\n",
      "D loss: 1.29\n",
      "G_loss: 0.7924\n",
      "\n",
      "Iter: 44000\n",
      "D loss: 1.283\n",
      "G_loss: 0.8187\n",
      "\n",
      "Iter: 45000\n",
      "D loss: 1.228\n",
      "G_loss: 0.9012\n",
      "\n",
      "Iter: 46000\n",
      "D loss: 1.196\n",
      "G_loss: 0.8081\n",
      "\n",
      "Iter: 47000\n",
      "D loss: 1.251\n",
      "G_loss: 0.8324\n",
      "\n",
      "Iter: 48000\n",
      "D loss: 1.257\n",
      "G_loss: 0.7482\n",
      "\n",
      "Iter: 49000\n",
      "D loss: 1.288\n",
      "G_loss: 0.7766\n",
      "\n",
      "Iter: 50000\n",
      "D loss: 1.304\n",
      "G_loss: 0.8124\n",
      "\n"
     ]
    }
   ],
   "source": [
    "D = 1\n",
    "G = 1\n",
    "sess = tf.Session()\n",
    "sess.run(tf.global_variables_initializer())\n",
    "for it in range(50001):\n",
    "    \n",
    "    for d in range(D):\n",
    "        X_mb, ind_mb = generate_real(mb_size, X_dim)\n",
    "        Z_sample = sample_Z(mb_size, Z_dim)\n",
    "        _, D_loss_curr = sess.run([D_solver, D_loss], feed_dict={X: X_mb, Z: Z_sample, ind:ind_mb})\n",
    "        \n",
    "    for g in range(G):\n",
    "        _, ind_mb = generate_real(mb_size, X_dim)\n",
    "        Z_sample = sample_Z(mb_size, Z_dim)\n",
    "        _, G_loss_curr = sess.run([G_solver, G_loss], feed_dict={Z: Z_sample, ind:ind_mb})\n",
    "\n",
    "    if D_loss_curr < 0.5:\n",
    "        G = 10\n",
    "    else:\n",
    "        G = 1\n",
    "        \n",
    "    if it % 1000 == 0:\n",
    "        print('Iter: {}'.format(it))\n",
    "        print('D loss: {:.4}'. format(D_loss_curr))\n",
    "        print('G_loss: {:.4}'.format(G_loss_curr))\n",
    "        print()"
   ]
  },
  {
   "cell_type": "code",
   "execution_count": 1,
   "metadata": {},
   "outputs": [
    {
     "ename": "NameError",
     "evalue": "name 'G_W2_latent' is not defined",
     "output_type": "error",
     "traceback": [
      "\u001b[0;31m---------------------------------------------------------------------------\u001b[0m",
      "\u001b[0;31mNameError\u001b[0m                                 Traceback (most recent call last)",
      "\u001b[0;32m<ipython-input-1-82eef125cf75>\u001b[0m in \u001b[0;36m<module>\u001b[0;34m()\u001b[0m\n\u001b[1;32m      1\u001b[0m \u001b[0;31m# test\u001b[0m\u001b[0;34m\u001b[0m\u001b[0;34m\u001b[0m\u001b[0m\n\u001b[0;32m----> 2\u001b[0;31m \u001b[0mG_W2_latent_final\u001b[0m \u001b[0;34m=\u001b[0m \u001b[0mG_W2_latent\u001b[0m\u001b[0;34m.\u001b[0m\u001b[0meval\u001b[0m\u001b[0;34m(\u001b[0m\u001b[0msess\u001b[0m\u001b[0;34m)\u001b[0m\u001b[0;34m\u001b[0m\u001b[0m\n\u001b[0m\u001b[1;32m      3\u001b[0m \u001b[0mG_b2_latent_final\u001b[0m \u001b[0;34m=\u001b[0m \u001b[0mG_b2_latent\u001b[0m\u001b[0;34m.\u001b[0m\u001b[0meval\u001b[0m\u001b[0;34m(\u001b[0m\u001b[0msess\u001b[0m\u001b[0;34m)\u001b[0m\u001b[0;34m\u001b[0m\u001b[0m\n\u001b[1;32m      4\u001b[0m \u001b[0mG_W3_latent_final\u001b[0m \u001b[0;34m=\u001b[0m \u001b[0mG_W3_latent\u001b[0m\u001b[0;34m.\u001b[0m\u001b[0meval\u001b[0m\u001b[0;34m(\u001b[0m\u001b[0msess\u001b[0m\u001b[0;34m)\u001b[0m\u001b[0;34m\u001b[0m\u001b[0m\n\u001b[1;32m      5\u001b[0m \u001b[0mG_b3_latent_final\u001b[0m \u001b[0;34m=\u001b[0m \u001b[0mG_b3_latent\u001b[0m\u001b[0;34m.\u001b[0m\u001b[0meval\u001b[0m\u001b[0;34m(\u001b[0m\u001b[0msess\u001b[0m\u001b[0;34m)\u001b[0m\u001b[0;34m\u001b[0m\u001b[0m\n",
      "\u001b[0;31mNameError\u001b[0m: name 'G_W2_latent' is not defined"
     ]
    }
   ],
   "source": [
    "# test\n",
    "G_W2_latent_final = G_W2_latent.eval(sess)\n",
    "G_b2_latent_final = G_b2_latent.eval(sess)\n",
    "G_W3_latent_final = G_W3_latent.eval(sess)\n",
    "G_b3_latent_final = G_b3_latent.eval(sess)\n",
    "G_W4_latent_final = G_W4_latent.eval(sess)\n",
    "G_b4_latent_final = G_b4_latent.eval(sess)\n",
    "\n",
    "G_W2_censor_final = G_W2_censor.eval(sess)\n",
    "G_b2_censor_final = G_b2_censor.eval(sess)\n",
    "G_W3_censor_final = G_W3_censor.eval(sess)\n",
    "G_b3_censor_final = G_b3_censor.eval(sess)\n",
    "G_W4_censor_final = G_W4_censor.eval(sess)\n",
    "G_b4_censor_final = G_b4_censor.eval(sess)"
   ]
  },
  {
   "cell_type": "code",
   "execution_count": 140,
   "metadata": {},
   "outputs": [],
   "source": [
    "def reLu(x):\n",
    "    return np.maximum(x,0)\n",
    "\n",
    "x_latent = np.concatenate((x,np.ones_like(i)), axis=1)\n",
    "pred = np.dot(reLu(np.dot(reLu(np.dot(x_latent, G_W2_latent_final) + G_b2_latent_final), G_W3_latent_final) \\\n",
    "                   + G_b3_latent_final), G_W4_latent_final) + G_b4_latent_final\n",
    "\n",
    "x_censor = np.concatenate((x,np.zeros_like(i)), axis=1)\n",
    "pred_c = np.dot(reLu(np.dot(reLu(np.dot(x_censor, G_W2_censor_final) + G_b2_censor_final), G_W3_censor_final) \\\n",
    "                     + G_b3_censor_final), G_W4_censor_final) + G_b4_censor_final"
   ]
  },
  {
   "cell_type": "code",
   "execution_count": 142,
   "metadata": {},
   "outputs": [
    {
     "data": {
      "text/plain": [
       "[<matplotlib.lines.Line2D at 0x7f87c40c6630>]"
      ]
     },
     "execution_count": 142,
     "metadata": {},
     "output_type": "execute_result"
    },
    {
     "data": {
      "image/png": "[encoded data removed]",
      "text/plain": [
       "<matplotlib.figure.Figure at 0x7f87c40c5080>"
      ]
     },
     "metadata": {},
     "output_type": "display_data"
    }
   ],
   "source": [
    "plt.plot(pred)"
   ]
  },
  {
   "cell_type": "code",
   "execution_count": 143,
   "metadata": {},
   "outputs": [
    {
     "data": {
      "text/plain": [
       "[<matplotlib.lines.Line2D at 0x7f87bff8a898>]"
      ]
     },
     "execution_count": 143,
     "metadata": {},
     "output_type": "execute_result"
    },
    {
     "data": {
      "image/png": "[encoded data removed]",
      "text/plain": [
       "<matplotlib.figure.Figure at 0x7f8780257240>"
      ]
     },
     "metadata": {},
     "output_type": "display_data"
    }
   ],
   "source": [
    "plt.plot(pred_c)"
   ]
  },
  {
   "cell_type": "code",
   "execution_count": 144,
   "metadata": {},
   "outputs": [
    {
     "data": {
      "text/plain": [
       "[<matplotlib.lines.Line2D at 0x7f87bffd6748>]"
      ]
     },
     "execution_count": 144,
     "metadata": {},
     "output_type": "execute_result"
    },
    {
     "data": {
      "image/png": "[encoded data removed]",
      "text/plain": [
       "<matplotlib.figure.Figure at 0x7f87c407a780>"
      ]
     },
     "metadata": {},
     "output_type": "display_data"
    }
   ],
   "source": [
    "plt.plot(np.maximum(pred, pred_c))"
   ]
  },
  {
   "cell_type": "code",
   "execution_count": null,
   "metadata": {},
   "outputs": [],
   "source": []
  }
 ],
 "metadata": {
  "kernelspec": {
   "display_name": "tensorflow_python3",
   "language": "python",
   "name": "tensorflow_python3"
  },
  "language_info": {
   "codemirror_mode": {
    "name": "ipython",
    "version": 3
   },
   "file_extension": ".py",
   "mimetype": "text/x-python",
   "name": "python",
   "nbconvert_exporter": "python",
   "pygments_lexer": "ipython3",
   "version": "3.5.2"
  }
 },
 "nbformat": 4,
 "nbformat_minor": 2
}
